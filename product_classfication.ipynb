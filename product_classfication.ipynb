{
 "cells": [
  {
   "cell_type": "markdown",
   "metadata": {
    "id": "f79W4LOynAMr"
   },
   "source": [
    "## **Products categorization with Distilbert model**\n",
    "\n",
    "\n",
    "\n"
   ]
  },
  {
   "cell_type": "code",
   "execution_count": 1,
   "metadata": {
    "colab": {
     "base_uri": "https://localhost:8080/"
    },
    "id": "a4Ii8uXhmLI7",
    "outputId": "150ab0e5-47a9-4971-8e74-0d5c1ea78418"
   },
   "outputs": [
    {
     "name": "stdout",
     "output_type": "stream",
     "text": [
      "Looking in indexes: https://pypi.org/simple, https://us-python.pkg.dev/colab-wheels/public/simple/\n",
      "Collecting transformers\n",
      "  Downloading transformers-4.25.1-py3-none-any.whl (5.8 MB)\n",
      "\u001b[K     |████████████████████████████████| 5.8 MB 27.0 MB/s \n",
      "\u001b[?25hRequirement already satisfied: pyyaml>=5.1 in /usr/local/lib/python3.8/dist-packages (from transformers) (6.0)\n",
      "Requirement already satisfied: requests in /usr/local/lib/python3.8/dist-packages (from transformers) (2.23.0)\n",
      "Requirement already satisfied: numpy>=1.17 in /usr/local/lib/python3.8/dist-packages (from transformers) (1.21.6)\n",
      "Requirement already satisfied: filelock in /usr/local/lib/python3.8/dist-packages (from transformers) (3.8.2)\n",
      "Requirement already satisfied: packaging>=20.0 in /usr/local/lib/python3.8/dist-packages (from transformers) (21.3)\n",
      "Collecting tokenizers!=0.11.3,<0.14,>=0.11.1\n",
      "  Downloading tokenizers-0.13.2-cp38-cp38-manylinux_2_17_x86_64.manylinux2014_x86_64.whl (7.6 MB)\n",
      "\u001b[K     |████████████████████████████████| 7.6 MB 57.2 MB/s \n",
      "\u001b[?25hCollecting huggingface-hub<1.0,>=0.10.0\n",
      "  Downloading huggingface_hub-0.11.1-py3-none-any.whl (182 kB)\n",
      "\u001b[K     |████████████████████████████████| 182 kB 71.8 MB/s \n",
      "\u001b[?25hRequirement already satisfied: tqdm>=4.27 in /usr/local/lib/python3.8/dist-packages (from transformers) (4.64.1)\n",
      "Requirement already satisfied: regex!=2019.12.17 in /usr/local/lib/python3.8/dist-packages (from transformers) (2022.6.2)\n",
      "Requirement already satisfied: typing-extensions>=3.7.4.3 in /usr/local/lib/python3.8/dist-packages (from huggingface-hub<1.0,>=0.10.0->transformers) (4.4.0)\n",
      "Requirement already satisfied: pyparsing!=3.0.5,>=2.0.2 in /usr/local/lib/python3.8/dist-packages (from packaging>=20.0->transformers) (3.0.9)\n",
      "Requirement already satisfied: idna<3,>=2.5 in /usr/local/lib/python3.8/dist-packages (from requests->transformers) (2.10)\n",
      "Requirement already satisfied: chardet<4,>=3.0.2 in /usr/local/lib/python3.8/dist-packages (from requests->transformers) (3.0.4)\n",
      "Requirement already satisfied: urllib3!=1.25.0,!=1.25.1,<1.26,>=1.21.1 in /usr/local/lib/python3.8/dist-packages (from requests->transformers) (1.24.3)\n",
      "Requirement already satisfied: certifi>=2017.4.17 in /usr/local/lib/python3.8/dist-packages (from requests->transformers) (2022.12.7)\n",
      "Installing collected packages: tokenizers, huggingface-hub, transformers\n",
      "Successfully installed huggingface-hub-0.11.1 tokenizers-0.13.2 transformers-4.25.1\n"
     ]
    }
   ],
   "source": [
    "!pip install transformers\n",
    "#!pip install tensorflow\n",
    "#!pip install protobuf==3.20.0"
   ]
  },
  {
   "cell_type": "markdown",
   "metadata": {
    "id": "EM_j4-Iqn9wa"
   },
   "source": [
    "**Importing the required libraries**"
   ]
  },
  {
   "cell_type": "code",
   "execution_count": 2,
   "metadata": {
    "id": "T8EnQdALmPbh"
   },
   "outputs": [],
   "source": [
    "import pandas as pd\n",
    "import numpy as np\n",
    "import matplotlib.pyplot as plt\n",
    "%matplotlib inline\n",
    "import seaborn as sns\n",
    "\n",
    "from sklearn.model_selection import train_test_split\n",
    "from sklearn.preprocessing import LabelBinarizer, LabelEncoder\n",
    "from sklearn.metrics import confusion_matrix, accuracy_score\n",
    "\n",
    "import tensorflow as tf\n",
    "from tensorflow import keras \n",
    "from tensorflow.keras.layers import Dense, Input\n",
    "from tensorflow.keras.optimizers import Adam\n",
    "from keras.models import Model\n",
    "from tensorflow.keras import utils as np_utils\n",
    "from keras.utils.np_utils import to_categorical\n",
    "\n",
    "import transformers\n",
    "from transformers import AutoTokenizer,TFDistilBertModel, DistilBertConfig\n",
    "from transformers import TFAutoModel\n",
    "\n",
    "import warnings\n",
    "warnings.filterwarnings(\"ignore\")"
   ]
  },
  {
   "cell_type": "code",
   "execution_count": 3,
   "metadata": {
    "colab": {
     "base_uri": "https://localhost:8080/"
    },
    "id": "TDXNAMA97gv_",
    "outputId": "466cd62b-bd5e-468d-e7be-983fa9462106"
   },
   "outputs": [
    {
     "name": "stdout",
     "output_type": "stream",
     "text": [
      "2.10.0\n",
      "2.10.0\n"
     ]
    }
   ],
   "source": [
    "print(tf.__version__)\n",
    "print(keras.__version__)"
   ]
  },
  {
   "cell_type": "markdown",
   "metadata": {},
   "source": [
    "**Data is preprocessing**"
   ]
  },
  {
   "cell_type": "code",
   "execution_count": 75,
   "metadata": {},
   "outputs": [],
   "source": [
    "# make all text lowercase\n",
    "def text_lowercase(text):\n",
    "    return text.lower()\n",
    "\n",
    "\n",
    "# remove stopwords\n",
    "def remove_stopwords(text):\n",
    "    words = text.split()\n",
    "    text = [i for i in words if not i in stop_words]\n",
    "    text = ' '.join(text)\n",
    "    return text\n",
    "\n",
    "\n",
    "# remove punctuation\n",
    "def remove_punctuation(text):\n",
    "    translator = str.maketrans('', '', string.punctuation)\n",
    "    return text.translate(translator)\n",
    "\n",
    "\n",
    "# preprocess text string\n",
    "def preprocessing(text):\n",
    "    text = text_lowercase(text)\n",
    "    text = remove_punctuation(text)\n",
    "    text = remove_stopwords(text)\n",
    "    return text\n"
   ]
  },
  {
   "cell_type": "markdown",
   "metadata": {},
   "source": [
    "**Data is preprocessed and stored in csv file**"
   ]
  },
  {
   "cell_type": "code",
   "execution_count": 17,
   "metadata": {
    "id": "kP22K4oAmPev"
   },
   "outputs": [],
   "source": [
    "X = pd.read_csv(\"export.csv\")['productDescription']"
   ]
  },
  {
   "cell_type": "code",
   "execution_count": 18,
   "metadata": {},
   "outputs": [
    {
     "data": {
      "text/plain": [
       "0         heating radiator renault megane ii 1.9 dci, 12...\n",
       "1                          air cleaner filter box c 270 cdi\n",
       "2                                               coil spring\n",
       "3         heating blower button citroen saxo 1.1, 60 hp,...\n",
       "4                      radio for toyota avensis (1997-2003)\n",
       "                                ...                        \n",
       "111868    coolant reservoir for s-class sedan s 400 cdi ...\n",
       "111869    instrument cluster for audi a4 sedan b6 (11.20...\n",
       "111870    gear shift console honda cr-v i 2.0 16v 4wd, 1...\n",
       "111871    instrument cluster peugeot 405 i sedan 1.6, 94 hp\n",
       "111872     cabrio hood motor for fortwo cabrio 450 , cabrio\n",
       "Name: productDescription, Length: 111873, dtype: object"
      ]
     },
     "execution_count": 18,
     "metadata": {},
     "output_type": "execute_result"
    }
   ],
   "source": [
    "X"
   ]
  },
  {
   "cell_type": "code",
   "execution_count": 19,
   "metadata": {},
   "outputs": [],
   "source": [
    "y = pd.read_csv(\"export-2.csv\")['child_category']"
   ]
  },
  {
   "cell_type": "code",
   "execution_count": 7,
   "metadata": {},
   "outputs": [
    {
     "data": {
      "text/plain": [
       "0                 heating_radiators\n",
       "1                  air_filter_boxes\n",
       "2                      coil_springs\n",
       "3                   heating_blowers\n",
       "4         air_horns_klaxons_buzzers\n",
       "                    ...            \n",
       "111868           coolant_reservoirs\n",
       "111869          instrument_clusters\n",
       "111870    interior_dash_trim_panels\n",
       "111871          instrument_clusters\n",
       "111872       blower_motor_resistors\n",
       "Name: child_category, Length: 111873, dtype: object"
      ]
     },
     "execution_count": 7,
     "metadata": {},
     "output_type": "execute_result"
    }
   ],
   "source": [
    "y"
   ]
  },
  {
   "cell_type": "markdown",
   "metadata": {},
   "source": [
    "**Load previous cleaned up dataset**"
   ]
  },
  {
   "cell_type": "code",
   "execution_count": 21,
   "metadata": {},
   "outputs": [],
   "source": [
    "df=pd.read_csv(\"export.csv\")\n",
    "df['category']=pd.read_csv(\"export-2.csv\")['child_category']"
   ]
  },
  {
   "cell_type": "code",
   "execution_count": 24,
   "metadata": {},
   "outputs": [
    {
     "data": {
      "text/html": [
       "<div>\n",
       "<style scoped>\n",
       "    .dataframe tbody tr th:only-of-type {\n",
       "        vertical-align: middle;\n",
       "    }\n",
       "\n",
       "    .dataframe tbody tr th {\n",
       "        vertical-align: top;\n",
       "    }\n",
       "\n",
       "    .dataframe thead th {\n",
       "        text-align: right;\n",
       "    }\n",
       "</style>\n",
       "<table border=\"1\" class=\"dataframe\">\n",
       "  <thead>\n",
       "    <tr style=\"text-align: right;\">\n",
       "      <th></th>\n",
       "      <th>productDescription</th>\n",
       "      <th>category</th>\n",
       "    </tr>\n",
       "  </thead>\n",
       "  <tbody>\n",
       "    <tr>\n",
       "      <th>0</th>\n",
       "      <td>heating radiator renault megane ii 1.9 dci, 12...</td>\n",
       "      <td>heating_radiators</td>\n",
       "    </tr>\n",
       "    <tr>\n",
       "      <th>1</th>\n",
       "      <td>air cleaner filter box c 270 cdi</td>\n",
       "      <td>air_filter_boxes</td>\n",
       "    </tr>\n",
       "    <tr>\n",
       "      <th>2</th>\n",
       "      <td>coil spring</td>\n",
       "      <td>coil_springs</td>\n",
       "    </tr>\n",
       "    <tr>\n",
       "      <th>3</th>\n",
       "      <td>heating blower button citroen saxo 1.1, 60 hp,...</td>\n",
       "      <td>heating_blowers</td>\n",
       "    </tr>\n",
       "    <tr>\n",
       "      <th>4</th>\n",
       "      <td>radio for toyota avensis (1997-2003)</td>\n",
       "      <td>air_horns_klaxons_buzzers</td>\n",
       "    </tr>\n",
       "    <tr>\n",
       "      <th>...</th>\n",
       "      <td>...</td>\n",
       "      <td>...</td>\n",
       "    </tr>\n",
       "    <tr>\n",
       "      <th>111868</th>\n",
       "      <td>coolant reservoir for s-class sedan s 400 cdi ...</td>\n",
       "      <td>coolant_reservoirs</td>\n",
       "    </tr>\n",
       "    <tr>\n",
       "      <th>111869</th>\n",
       "      <td>instrument cluster for audi a4 sedan b6 (11.20...</td>\n",
       "      <td>instrument_clusters</td>\n",
       "    </tr>\n",
       "    <tr>\n",
       "      <th>111870</th>\n",
       "      <td>gear shift console honda cr-v i 2.0 16v 4wd, 1...</td>\n",
       "      <td>interior_dash_trim_panels</td>\n",
       "    </tr>\n",
       "    <tr>\n",
       "      <th>111871</th>\n",
       "      <td>instrument cluster peugeot 405 i sedan 1.6, 94 hp</td>\n",
       "      <td>instrument_clusters</td>\n",
       "    </tr>\n",
       "    <tr>\n",
       "      <th>111872</th>\n",
       "      <td>cabrio hood motor for fortwo cabrio 450 , cabrio</td>\n",
       "      <td>blower_motor_resistors</td>\n",
       "    </tr>\n",
       "  </tbody>\n",
       "</table>\n",
       "<p>111873 rows × 2 columns</p>\n",
       "</div>"
      ],
      "text/plain": [
       "                                       productDescription  \\\n",
       "0       heating radiator renault megane ii 1.9 dci, 12...   \n",
       "1                        air cleaner filter box c 270 cdi   \n",
       "2                                             coil spring   \n",
       "3       heating blower button citroen saxo 1.1, 60 hp,...   \n",
       "4                    radio for toyota avensis (1997-2003)   \n",
       "...                                                   ...   \n",
       "111868  coolant reservoir for s-class sedan s 400 cdi ...   \n",
       "111869  instrument cluster for audi a4 sedan b6 (11.20...   \n",
       "111870  gear shift console honda cr-v i 2.0 16v 4wd, 1...   \n",
       "111871  instrument cluster peugeot 405 i sedan 1.6, 94 hp   \n",
       "111872   cabrio hood motor for fortwo cabrio 450 , cabrio   \n",
       "\n",
       "                         category  \n",
       "0               heating_radiators  \n",
       "1                air_filter_boxes  \n",
       "2                    coil_springs  \n",
       "3                 heating_blowers  \n",
       "4       air_horns_klaxons_buzzers  \n",
       "...                           ...  \n",
       "111868         coolant_reservoirs  \n",
       "111869        instrument_clusters  \n",
       "111870  interior_dash_trim_panels  \n",
       "111871        instrument_clusters  \n",
       "111872     blower_motor_resistors  \n",
       "\n",
       "[111873 rows x 2 columns]"
      ]
     },
     "execution_count": 24,
     "metadata": {},
     "output_type": "execute_result"
    }
   ],
   "source": [
    "df"
   ]
  },
  {
   "cell_type": "markdown",
   "metadata": {
    "id": "rzLub2Tvo12H"
   },
   "source": [
    "**Data Understanding**"
   ]
  },
  {
   "cell_type": "code",
   "execution_count": null,
   "metadata": {
    "colab": {
     "base_uri": "https://localhost:8080/",
     "height": 206
    },
    "id": "7EQYl0HcmPh4",
    "outputId": "4ea23847-09d9-4810-998e-5d61df10e137"
   },
   "outputs": [],
   "source": []
  },
  {
   "cell_type": "code",
   "execution_count": 10,
   "metadata": {
    "colab": {
     "base_uri": "https://localhost:8080/"
    },
    "id": "rxCaNrvOmPkm",
    "outputId": "6fadc181-3b3f-4f21-ffd8-58f45a4c8a78"
   },
   "outputs": [
    {
     "data": {
      "text/plain": [
       "(111873, 2)"
      ]
     },
     "execution_count": 10,
     "metadata": {},
     "output_type": "execute_result"
    }
   ],
   "source": [
    "df.shape"
   ]
  },
  {
   "cell_type": "code",
   "execution_count": 11,
   "metadata": {
    "colab": {
     "base_uri": "https://localhost:8080/"
    },
    "id": "OCE9ACsgozGb",
    "outputId": "005cc928-b1bf-46c1-8bf5-c56d5f5793ca"
   },
   "outputs": [
    {
     "name": "stdout",
     "output_type": "stream",
     "text": [
      "<class 'pandas.core.frame.DataFrame'>\n",
      "RangeIndex: 111873 entries, 0 to 111872\n",
      "Data columns (total 2 columns):\n",
      " #   Column              Non-Null Count   Dtype \n",
      "---  ------              --------------   ----- \n",
      " 0   productDescription  111873 non-null  object\n",
      " 1   category            111873 non-null  object\n",
      "dtypes: object(2)\n",
      "memory usage: 1.7+ MB\n"
     ]
    }
   ],
   "source": [
    "df.info()"
   ]
  },
  {
   "cell_type": "code",
   "execution_count": 12,
   "metadata": {
    "colab": {
     "base_uri": "https://localhost:8080/"
    },
    "id": "XovM2vDO383L",
    "outputId": "1a9ba34a-db7d-4f2b-ad9a-2b98e5fedd84"
   },
   "outputs": [
    {
     "data": {
      "text/plain": [
       "modules                                              1080\n",
       "diesel_fuel_injectors                                1041\n",
       "mass_air_flow_meter_sensors                          1041\n",
       "bumper_shock_absorbers_support_frames_and_holders    1033\n",
       "manifolds_intake_exhaust                             1029\n",
       "                                                     ... \n",
       "spare_wheels_with_tires                               311\n",
       "summer_tires                                          302\n",
       "commutators                                           296\n",
       "windshield_washer_pumps                               287\n",
       "heater_vents                                          272\n",
       "Name: category, Length: 166, dtype: int64"
      ]
     },
     "execution_count": 12,
     "metadata": {},
     "output_type": "execute_result"
    }
   ],
   "source": [
    "#types of categories\n",
    "df['category'].value_counts()"
   ]
  },
  {
   "cell_type": "code",
   "execution_count": 13,
   "metadata": {
    "colab": {
     "base_uri": "https://localhost:8080/",
     "height": 49
    },
    "id": "7PNNWxHH7Jtr",
    "outputId": "4df23dba-c67c-4878-edab-752a5e2c4197"
   },
   "outputs": [
    {
     "data": {
      "text/html": [
       "<div>\n",
       "<style scoped>\n",
       "    .dataframe tbody tr th:only-of-type {\n",
       "        vertical-align: middle;\n",
       "    }\n",
       "\n",
       "    .dataframe tbody tr th {\n",
       "        vertical-align: top;\n",
       "    }\n",
       "\n",
       "    .dataframe thead th {\n",
       "        text-align: right;\n",
       "    }\n",
       "</style>\n",
       "<table border=\"1\" class=\"dataframe\">\n",
       "  <thead>\n",
       "    <tr style=\"text-align: right;\">\n",
       "      <th></th>\n",
       "      <th>productDescription</th>\n",
       "      <th>category</th>\n",
       "    </tr>\n",
       "  </thead>\n",
       "  <tbody>\n",
       "    <tr>\n",
       "      <th>43538</th>\n",
       "      <td>gasoline fuel injector for renault clio ii hat...</td>\n",
       "      <td>gasoline_fuel_injectors</td>\n",
       "    </tr>\n",
       "  </tbody>\n",
       "</table>\n",
       "</div>"
      ],
      "text/plain": [
       "                                      productDescription  \\\n",
       "43538  gasoline fuel injector for renault clio ii hat...   \n",
       "\n",
       "                      category  \n",
       "43538  gasoline_fuel_injectors  "
      ]
     },
     "execution_count": 13,
     "metadata": {},
     "output_type": "execute_result"
    }
   ],
   "source": [
    "df[df[\"productDescription\"].str.len() > 150]"
   ]
  },
  {
   "cell_type": "code",
   "execution_count": 14,
   "metadata": {
    "id": "E-23ICR4868n"
   },
   "outputs": [],
   "source": [
    "#df=df.head(100)"
   ]
  },
  {
   "cell_type": "markdown",
   "metadata": {
    "id": "ePaIRmqNoLhI"
   },
   "source": [
    "### **Data preparation**\n",
    "\n",
    "Spliting the data into train and test sets:"
   ]
  },
  {
   "cell_type": "code",
   "execution_count": 25,
   "metadata": {
    "id": "zUYIqakGmPm7"
   },
   "outputs": [],
   "source": [
    "X = df['productDescription']\n",
    "y = df['category']"
   ]
  },
  {
   "cell_type": "code",
   "execution_count": 26,
   "metadata": {},
   "outputs": [
    {
     "data": {
      "text/plain": [
       "0         heating radiator renault megane ii 1.9 dci, 12...\n",
       "1                          air cleaner filter box c 270 cdi\n",
       "2                                               coil spring\n",
       "3         heating blower button citroen saxo 1.1, 60 hp,...\n",
       "4                      radio for toyota avensis (1997-2003)\n",
       "                                ...                        \n",
       "111868    coolant reservoir for s-class sedan s 400 cdi ...\n",
       "111869    instrument cluster for audi a4 sedan b6 (11.20...\n",
       "111870    gear shift console honda cr-v i 2.0 16v 4wd, 1...\n",
       "111871    instrument cluster peugeot 405 i sedan 1.6, 94 hp\n",
       "111872     cabrio hood motor for fortwo cabrio 450 , cabrio\n",
       "Name: productDescription, Length: 111873, dtype: object"
      ]
     },
     "execution_count": 26,
     "metadata": {},
     "output_type": "execute_result"
    }
   ],
   "source": [
    "X"
   ]
  },
  {
   "cell_type": "code",
   "execution_count": 27,
   "metadata": {},
   "outputs": [
    {
     "data": {
      "text/plain": [
       "0                 heating_radiators\n",
       "1                  air_filter_boxes\n",
       "2                      coil_springs\n",
       "3                   heating_blowers\n",
       "4         air_horns_klaxons_buzzers\n",
       "                    ...            \n",
       "111868           coolant_reservoirs\n",
       "111869          instrument_clusters\n",
       "111870    interior_dash_trim_panels\n",
       "111871          instrument_clusters\n",
       "111872       blower_motor_resistors\n",
       "Name: category, Length: 111873, dtype: object"
      ]
     },
     "execution_count": 27,
     "metadata": {},
     "output_type": "execute_result"
    }
   ],
   "source": [
    "y"
   ]
  },
  {
   "cell_type": "code",
   "execution_count": 28,
   "metadata": {
    "id": "xboYBpvVoISe"
   },
   "outputs": [],
   "source": [
    "X_train,X_test,y_train,y_test = train_test_split(X, y, test_size=0.2, random_state = 0)"
   ]
  },
  {
   "cell_type": "code",
   "execution_count": null,
   "metadata": {
    "id": "UXMu44SZCs71"
   },
   "outputs": [],
   "source": []
  },
  {
   "cell_type": "code",
   "execution_count": 29,
   "metadata": {
    "id": "f9oIfT8amPpt"
   },
   "outputs": [],
   "source": [
    "encoder = LabelEncoder()\n",
    "encoder.fit(y_train)\n",
    "\n",
    "y_train = encoder.transform(y_train)\n",
    "y_test = encoder.transform(y_test)\n",
    "\n",
    "num_classes = np.max(y_train) + 1\n",
    "y_train = tf.keras.utils.to_categorical(y_train, num_classes)\n",
    "y_test = tf.keras.utils.to_categorical(y_test, num_classes)"
   ]
  },
  {
   "cell_type": "code",
   "execution_count": 30,
   "metadata": {
    "colab": {
     "base_uri": "https://localhost:8080/"
    },
    "id": "s5W-7UpxAxF5",
    "outputId": "a4dfe2a9-97b9-4a93-fbdc-e2453833c57c"
   },
   "outputs": [
    {
     "data": {
      "text/plain": [
       "(22375, 166)"
      ]
     },
     "execution_count": 30,
     "metadata": {},
     "output_type": "execute_result"
    }
   ],
   "source": [
    "y_test.shape"
   ]
  },
  {
   "cell_type": "code",
   "execution_count": 31,
   "metadata": {
    "colab": {
     "base_uri": "https://localhost:8080/"
    },
    "id": "k9_ehoX8swMd",
    "outputId": "75262ae4-a9c7-4253-d3f0-50a8a1d5c2e5"
   },
   "outputs": [
    {
     "data": {
      "text/plain": [
       "(89498, 166)"
      ]
     },
     "execution_count": 31,
     "metadata": {},
     "output_type": "execute_result"
    }
   ],
   "source": [
    "y_train.shape"
   ]
  },
  {
   "cell_type": "code",
   "execution_count": 56,
   "metadata": {},
   "outputs": [],
   "source": [
    "target_classes = encoder.classes_"
   ]
  },
  {
   "cell_type": "code",
   "execution_count": 74,
   "metadata": {},
   "outputs": [
    {
     "data": {
      "text/plain": [
       "array(['a/c_and_climatronic_control_panels', 'abs_dsc_asr',\n",
       "       'ac_compressors', 'active_suspension_modules',\n",
       "       'active_suspension_self_leveling_shock_absorbers_shock_dampers',\n",
       "       'aerials', 'air_conditioning_radiators', 'air_filter_boxes',\n",
       "       'air_horns_klaxons_buzzers', 'air_hoses_induction_pipes',\n",
       "       'air_intake_smooth_rubber_hoses', 'alloy_rims', 'alternators',\n",
       "       'amplifiers', 'armrests', 'automatic_transmissions',\n",
       "       'blinds_and_mechanisms', 'blower_motor_resistors', 'bonnet_locks',\n",
       "       'boot_lid_key_locks', 'boot_lid_locks', 'brake_calipers',\n",
       "       'brake_discs', 'brake_master_cylinders',\n",
       "       'bumper_shock_absorbers_support_frames_and_holders',\n",
       "       'buttons_panel_(seats_windows_mirrors_etc.)', 'carburetors',\n",
       "       'cassette_and_cd_players', 'cd_changers',\n",
       "       'central_vacuum_and_door_lock_actuators', 'coil_springs',\n",
       "       'commutators',\n",
       "       'compressors_for_air_suspension_hydraulic_suspension_pumps',\n",
       "       'control_buttons_switch_hazard', 'conveying_pumps',\n",
       "       'coolant_reservoirs', 'cooling_fans', 'crankcases', 'cup_holders',\n",
       "       'cylinder_heads', 'dampers_for_bonnets_lids_doors_and_glove_boxes',\n",
       "       'decorative_masks_and_grilles', 'delco_distributors',\n",
       "       'diesel_fuel_injectors',\n",
       "       'differential_and_transfer_case_actuators', 'differentials',\n",
       "       'displays_and_gauges', 'door_locks', 'door_panels', 'doors',\n",
       "       'drive_shafts', 'driveshafts_propshafts', 'dvd_tv_receivers',\n",
       "       'egr_and_vacuum_valves', 'electric_steering_rack_motors',\n",
       "       'emergency_lights_buttons', 'engine_control_units',\n",
       "       'engine_mounts', 'exterior_handles', 'external_boot_lid_handles',\n",
       "       'fan_clutches', 'fan_shrouds', 'fenders', 'flywheels',\n",
       "       'for_air_conditioner', 'for_antifreeze', 'for_oil_and_hydraulics',\n",
       "       'front_axles', 'fuel_burning_heaters', 'fuel_hoses_and_pipes',\n",
       "       'fuel_injection_pumps', 'fuel_injection_systems',\n",
       "       'fuel_level_sensors', 'fuel_pump_chambers_and_flangers',\n",
       "       'fuel_pumps', 'fuel_rails', 'fuse_panels',\n",
       "       'gasoline_fuel_injectors',\n",
       "       'gear_shift_lever_knobs_parking_brake_handles_and_leather_covers',\n",
       "       'gearbox_cables', 'gearbox_control_modules', 'glove_compartments',\n",
       "       'glow_plugs_coolant_and_fuel_pre_heaters', 'gps_navigations',\n",
       "       'handbrake_and_gear_shift_levers', 'hands_free',\n",
       "       'headlight_wipers_and_mechanisms',\n",
       "       'heater_motor_flap_control_and_heater_valves', 'heater_vents',\n",
       "       'heating_blowers', 'heating_control_panels', 'heating_radiators',\n",
       "       'hoses_and_pipes_for_turbo', 'idle_speed_motors_and_swirl_flaps',\n",
       "       'ignition_coils',\n",
       "       'ignition_keys_security_cylinder_locks_and_ignition_switch_connectors',\n",
       "       'inner_fenders_mud_flaps', 'instrument_clusters', 'intercoolers',\n",
       "       'interior_courtesy_lights', 'interior_dash_trim_panels',\n",
       "       'internal_handles', 'leaf_springs', 'light_switches',\n",
       "       'loudspeakers', 'manifolds_intake_exhaust',\n",
       "       'manuals_transmissions', 'mass_air_flow_meter_sensors', 'mirrors',\n",
       "       'modules', 'nozzles_for_windscreens_headlights', 'oil_coolers',\n",
       "       'oil_coolers_and_heat_exchangers', 'oil_pumps',\n",
       "       'park_assist_sensors', 'pistons_cylinder_sleeves',\n",
       "       'plastic_panels_and_elements', 'power_motor_window_regulators',\n",
       "       'power_steering_pumps', 'pulleys_and_tensioners', 'rear_axles',\n",
       "       'relays', 'rods', 'roof_racks_luggage_rack_roof_rails',\n",
       "       'seat_belts', 'sensors', 'servo', 'shafts', 'side_skirts',\n",
       "       'side_windows', 'skid_plates', 'spare_wheel_holders_tool_box_kits',\n",
       "       'spare_wheels_with_tires', 'spoilers', 'starters', 'steel_rims',\n",
       "       'steering_boxes', 'steering_shafts_steering_wheel_joints',\n",
       "       'steering_wheel_ribbon_cables', 'steering_wheels', 'subwoofers',\n",
       "       'summer_tires', 'sun_visors', 'sunroofs',\n",
       "       'suspension_spheres_valves_hydraulic_suspension_distributors',\n",
       "       'thermostats', 'throttle_potentiometers', 'throttles',\n",
       "       'tool_kits_and_lifting_jacks', 'torque_converters', 'towing_hooks',\n",
       "       'transfer_cases', 'trims_and_caps__external',\n",
       "       'trunk_interior_covers', 'turbos_and_actuators', 'vacuum_pumps',\n",
       "       'variators_oil_valves',\n",
       "       'water_connections_and_thermostat_housings',\n",
       "       'water_pump_heater_coolant_motors', 'water_radiators',\n",
       "       'windshield_washer_pumps', 'windshield_wiper_mechanisms',\n",
       "       'windshield_wipers_reservoirs', 'winter_tires',\n",
       "       'wipers_and_lights_levers', 'wirings'], dtype=object)"
      ]
     },
     "execution_count": 74,
     "metadata": {},
     "output_type": "execute_result"
    }
   ],
   "source": [
    "target_classes"
   ]
  },
  {
   "cell_type": "markdown",
   "metadata": {
    "id": "KQ0aypwZpL0n"
   },
   "source": [
    "### **DistilBERT model**"
   ]
  },
  {
   "cell_type": "code",
   "execution_count": 32,
   "metadata": {
    "colab": {
     "base_uri": "https://localhost:8080/",
     "height": 145,
     "referenced_widgets": [
      "1e46de278726457a93f3e8e6fdc0d09a",
      "395c12691ea04d3a912efdd54949f0c7",
      "bf904aa9eeae4dcb9cb2bb4cf65547ed",
      "290b9b358a804e409bb0dae06db7688e",
      "8dfcf0d7d13e494db49f50b07f7e9260",
      "aa12c34ee5db4257ab39fcd6e1120e72",
      "d22468f1640d4af68be362dcec032c1a",
      "9951edffd97c4e5c9e2a31931dc08d57",
      "c0ed2d3d48d14af79d71279f63ecfeec",
      "c603769b12d741a0a04567ecbc456c71",
      "3b4b5cad39b942139a2cc6943da7aba5",
      "8639ef6c66d14435b5bfdecf5682b1c3",
      "b91108fb760c4ba5990ca9b6e9767b04",
      "ecd7ac6d610341f4aca98fd8cb0c3df5",
      "9a1cc99cac174f469256f3cd09c0461a",
      "0cfdb39876964a92944e59bc924741c4",
      "d6887df31af54e0ca8895346e1e4c1a1",
      "4e8f37564af8479db8c043b8b7ca1b01",
      "ea462a116a484899a49b0ea9af9733f5",
      "17d395ca2c7e4caa911d33f723e5a717",
      "a366c672016a4590bcfaaa7eaa345ec8",
      "f008a2e060184a21b4690e0759e681cf",
      "0266b2cf600b4209aa0673bb9e512aa2",
      "1337f399db814620836efe55a2aadaa5",
      "7d03fc44c9674b6a92d374dee17d804b",
      "800b172df7774d79921cfd2ca3084a2d",
      "07b14129db1e4dfbbc5ce10cb9331da4",
      "567f369cf1d84b7ab530ce9c0be49c5a",
      "c126a32efe4c455389cffb7998ea6c28",
      "1cb16f147af34b73acbc11a30ea89e43",
      "d40839a144694a1e8237c49297c25897",
      "ddb5b150e6a943e699ee5258191f2eb2",
      "0e8608a2666341caa6a8684ba3bdaf7e",
      "98668eba92f8437f9023c4abbec52c4b",
      "ef23c06078b04ddea6a2da986a3f2d13",
      "dafd235ad4644c29a8f8861b66dfa11c",
      "b4e679c15d1342298b07768052dfcf53",
      "3cd55dbb25ed4466be6162baa88d2cfe",
      "62b6af4e86f84a0d984e3a257e7ccf11",
      "bbaa6ed7c45443ea8e40e40b8313592a",
      "9657da5377cc43fd8299d2797ac3cbd3",
      "73516dca46f34f8282adcfffac0bfc8e",
      "3df7846256e9432e899688efe8fa5e05",
      "9c4bdfa0f2d54002be13dcfc26760dfb"
     ]
    },
    "id": "OzuDWOMw8Xth",
    "outputId": "63dfec75-4ed7-4416-bebc-f09c95599c42"
   },
   "outputs": [],
   "source": [
    "# Creating tokenizer\n",
    "tokenizer = AutoTokenizer.from_pretrained('distilbert-base-uncased')"
   ]
  },
  {
   "cell_type": "markdown",
   "metadata": {
    "id": "5ZdaP0fYcgw5"
   },
   "source": [
    "Now we have to load Distilbert model. In the Transformers library is avaliable Distilbert model and we use the `TFAutoModel` model (distilbert-base-uncased)."
   ]
  },
  {
   "cell_type": "code",
   "execution_count": 33,
   "metadata": {
    "colab": {
     "base_uri": "https://localhost:8080/",
     "height": 160,
     "referenced_widgets": [
      "0a0094391cf3409d8574a450ccd5b263",
      "3701aa17c0e345c283701d9b79983f9d",
      "1d1459cf08494cafbfc7afc8e6942700",
      "962af6ae5c884d0e9f77b7aea24964ec",
      "b97a47610e034e61bdbf5702ff184004",
      "b28ddcf7a25a40beaada4ccf1891553d",
      "ac60f8cd5af44a6cbc05d8edcc098e99",
      "7065eb709da34671a109918df668ca1f",
      "fe2fdf2028bd4f7f974f8010972844de",
      "2b2d62fecbfe4a9189479ecb1499fe3e",
      "a02b24eb269b4ad2a97583f509d3e0fa"
     ]
    },
    "id": "9stW15Hsthnk",
    "outputId": "a8c75396-f0f8-434d-c275-079db61b01e2"
   },
   "outputs": [
    {
     "name": "stderr",
     "output_type": "stream",
     "text": [
      "Some layers from the model checkpoint at distilbert-base-uncased were not used when initializing TFDistilBertModel: ['activation_13', 'vocab_layer_norm', 'vocab_transform', 'vocab_projector']\n",
      "- This IS expected if you are initializing TFDistilBertModel from the checkpoint of a model trained on another task or with another architecture (e.g. initializing a BertForSequenceClassification model from a BertForPreTraining model).\n",
      "- This IS NOT expected if you are initializing TFDistilBertModel from the checkpoint of a model that you expect to be exactly identical (initializing a BertForSequenceClassification model from a BertForSequenceClassification model).\n",
      "All the layers of TFDistilBertModel were initialized from the model checkpoint at distilbert-base-uncased.\n",
      "If your task is similar to the task the model of the checkpoint was trained on, you can already use TFDistilBertModel for predictions without further training.\n"
     ]
    }
   ],
   "source": [
    "bert = TFAutoModel.from_pretrained('distilbert-base-uncased')"
   ]
  },
  {
   "cell_type": "code",
   "execution_count": 34,
   "metadata": {
    "id": "fc_PG39t8XxO"
   },
   "outputs": [],
   "source": [
    "for layer in bert.layers:\n",
    "      layer.trainable = True"
   ]
  },
  {
   "cell_type": "markdown",
   "metadata": {
    "id": "YnMkoyUwcrzF"
   },
   "source": [
    "The function which allows to encode our dataset with tokenizer. We have decided on a maximum sentence length is 150 (maxlen)."
   ]
  },
  {
   "cell_type": "code",
   "execution_count": 3,
   "metadata": {
    "id": "Ne1y9d6J7crJ"
   },
   "outputs": [],
   "source": [
    "sentence_length = 150"
   ]
  },
  {
   "cell_type": "code",
   "execution_count": 46,
   "metadata": {
    "id": "0O-2LsIQthck"
   },
   "outputs": [],
   "source": [
    "# Tokenization of the data\n",
    "def text_encode(text, tokenizer, max_len=sentence_length):\n",
    "    tokens = text.apply(lambda x: tokenizer(x,return_tensors='tf', \n",
    "                                            truncation=True,\n",
    "                                            padding='max_length',\n",
    "                                            max_length=max_len, \n",
    "                                            add_special_tokens=True))\n",
    "    input_ids= []\n",
    "    attention_mask=[]\n",
    "    for item in tokens:\n",
    "        input_ids.append(item['input_ids'])\n",
    "        attention_mask.append(item['attention_mask'])\n",
    "    input_ids, attention_mask=np.squeeze(input_ids), np.squeeze(attention_mask)\n",
    "\n",
    "    return [input_ids,attention_mask]"
   ]
  },
  {
   "cell_type": "markdown",
   "metadata": {
    "id": "yr66RR4Xc6_5"
   },
   "source": [
    "Based on this encodings for our training and testing datasets are generated as follows:"
   ]
  },
  {
   "cell_type": "code",
   "execution_count": 47,
   "metadata": {
    "id": "cHZf2UN90acj"
   },
   "outputs": [],
   "source": [
    "X_train_input_ids, X_train_attention_mask = text_encode(X_train, tokenizer, max_len=sentence_length)\n",
    "X_test_input_ids, X_test_attention_mask = text_encode(X_test, tokenizer, max_len=sentence_length)"
   ]
  },
  {
   "cell_type": "code",
   "execution_count": 38,
   "metadata": {
    "colab": {
     "base_uri": "https://localhost:8080/"
    },
    "id": "FdvdP61s-cVV",
    "outputId": "4f16d8a5-26b6-4837-fb72-09c6c77ec2b3"
   },
   "outputs": [
    {
     "data": {
      "text/plain": [
       "89498"
      ]
     },
     "execution_count": 38,
     "metadata": {},
     "output_type": "execute_result"
    }
   ],
   "source": [
    "len(X_train_input_ids)"
   ]
  },
  {
   "cell_type": "code",
   "execution_count": 39,
   "metadata": {
    "colab": {
     "base_uri": "https://localhost:8080/"
    },
    "id": "o1j9fAJI-h1V",
    "outputId": "249c6ab3-7eb6-4952-ee67-14d1be5ac7ea"
   },
   "outputs": [
    {
     "data": {
      "text/plain": [
       "89498"
      ]
     },
     "execution_count": 39,
     "metadata": {},
     "output_type": "execute_result"
    }
   ],
   "source": [
    "len(X_train_attention_mask)"
   ]
  },
  {
   "cell_type": "code",
   "execution_count": 40,
   "metadata": {
    "colab": {
     "base_uri": "https://localhost:8080/"
    },
    "id": "00V9wGbw-j_u",
    "outputId": "0b0b0e4c-159f-4eb1-bfb1-f1e83bdf5e14"
   },
   "outputs": [
    {
     "data": {
      "text/plain": [
       "22375"
      ]
     },
     "execution_count": 40,
     "metadata": {},
     "output_type": "execute_result"
    }
   ],
   "source": [
    "len(X_test_input_ids)"
   ]
  },
  {
   "cell_type": "code",
   "execution_count": 41,
   "metadata": {
    "colab": {
     "base_uri": "https://localhost:8080/"
    },
    "id": "7YcQ6xd_-me8",
    "outputId": "1b014ab0-7544-4b05-ef9c-8d1f7fc04591"
   },
   "outputs": [
    {
     "data": {
      "text/plain": [
       "22375"
      ]
     },
     "execution_count": 41,
     "metadata": {},
     "output_type": "execute_result"
    }
   ],
   "source": [
    "len(X_test_attention_mask)"
   ]
  },
  {
   "cell_type": "markdown",
   "metadata": {
    "id": "acfiJWvOc_MC"
   },
   "source": [
    "### **Build the model**\n",
    "\n",
    "We create a Distilbert model with pretrained weights and then we add two Dense layers with Dropout layer."
   ]
  },
  {
   "cell_type": "code",
   "execution_count": 4,
   "metadata": {
    "id": "SSnLONP_wFU4"
   },
   "outputs": [],
   "source": [
    "# model creation\n",
    "def build_model(bert_model, maxlen=sentence_length):\n",
    "    input_ids = tf.keras.Input(shape=(maxlen,),dtype=tf.int32, name='input_ids')\n",
    "    attention_mask = tf.keras.Input(shape=(maxlen,),dtype=tf.int32, name='attention_mask')\n",
    "    \n",
    "    sequence_output = bert_model(input_ids,attention_mask=attention_mask)\n",
    "    output = sequence_output[0][:,0,:]\n",
    "    output = tf.keras.layers.Dense(32,activation='relu')(output)\n",
    "    output = tf.keras.layers.Dropout(0.2)(output)\n",
    "    output = tf.keras.layers.Dense(166,activation='softmax')(output)\n",
    "\n",
    "    model = tf.keras.models.Model(inputs = [input_ids,attention_mask], outputs = [output])\n",
    "    model.compile(Adam(lr=1e-5), loss='categorical_crossentropy', metrics=['accuracy'])\n",
    "\n",
    "    return model"
   ]
  },
  {
   "cell_type": "code",
   "execution_count": 24,
   "metadata": {
    "id": "TTmBiqM4Qc5a"
   },
   "outputs": [],
   "source": [
    "model = build_model(bert, maxlen=sentence_length)"
   ]
  },
  {
   "cell_type": "markdown",
   "metadata": {
    "id": "NCzlU0FEdG-w"
   },
   "source": [
    "We train the model for 10 epoch:"
   ]
  },
  {
   "cell_type": "code",
   "execution_count": 25,
   "metadata": {
    "colab": {
     "base_uri": "https://localhost:8080/"
    },
    "id": "mFp9E0EmQc-K",
    "outputId": "5c8f821d-642c-4abb-81fd-39250e275d0f"
   },
   "outputs": [
    {
     "name": "stdout",
     "output_type": "stream",
     "text": [
      "Epoch 1/10\n",
      "2797/2797 [==============================] - 53889s 19s/step - loss: 1.9162 - accuracy: 0.6870 - val_loss: 0.6516 - val_accuracy: 0.9047\n",
      "Epoch 2/10\n",
      "2797/2797 [==============================] - 11729s 4s/step - loss: 0.7612 - accuracy: 0.8844 - val_loss: 0.4634 - val_accuracy: 0.9196\n",
      "Epoch 3/10\n",
      "2797/2797 [==============================] - 18136s 6s/step - loss: 0.5510 - accuracy: 0.9085 - val_loss: 0.3488 - val_accuracy: 0.9359\n",
      "Epoch 4/10\n",
      "2797/2797 [==============================] - 10736s 4s/step - loss: 0.4210 - accuracy: 0.9263 - val_loss: 0.2580 - val_accuracy: 0.9501\n",
      "Epoch 5/10\n",
      "2797/2797 [==============================] - 10670s 4s/step - loss: 0.3251 - accuracy: 0.9410 - val_loss: 0.2158 - val_accuracy: 0.9567\n",
      "Epoch 6/10\n",
      "2797/2797 [==============================] - 10288s 4s/step - loss: 0.2579 - accuracy: 0.9531 - val_loss: 0.1760 - val_accuracy: 0.9658\n",
      "Epoch 7/10\n",
      "2797/2797 [==============================] - 10124s 4s/step - loss: 0.2113 - accuracy: 0.9599 - val_loss: 0.1575 - val_accuracy: 0.9704\n",
      "Epoch 8/10\n",
      "2797/2797 [==============================] - 10751s 4s/step - loss: 0.1729 - accuracy: 0.9668 - val_loss: 0.1332 - val_accuracy: 0.9739\n",
      "Epoch 9/10\n",
      "2797/2797 [==============================] - 11314s 4s/step - loss: 0.1469 - accuracy: 0.9713 - val_loss: 0.1222 - val_accuracy: 0.9765\n",
      "Epoch 10/10\n",
      "2797/2797 [==============================] - 11282s 4s/step - loss: 0.1225 - accuracy: 0.9760 - val_loss: 0.1244 - val_accuracy: 0.9780\n"
     ]
    }
   ],
   "source": [
    "history = model.fit(\n",
    "    [X_train_input_ids, X_train_attention_mask],\n",
    "    y_train,\n",
    "    batch_size=32,\n",
    "    validation_data=([X_test_input_ids, X_test_attention_mask], y_test),\n",
    "    epochs=10\n",
    ")"
   ]
  },
  {
   "cell_type": "markdown",
   "metadata": {
    "id": "1B5kqZ5xdPF6"
   },
   "source": [
    "Visualization of training:"
   ]
  },
  {
   "cell_type": "code",
   "execution_count": 26,
   "metadata": {
    "id": "vAK3qBHmDi4f"
   },
   "outputs": [],
   "source": [
    "def plot_graphs(history, string):\n",
    "  plt.plot(history.history[string])\n",
    "  plt.plot(history.history['val_'+string])\n",
    "  plt.xlabel(\"Epochs\")\n",
    "  plt.ylabel(string)\n",
    "  plt.legend([string, 'val_'+string])\n",
    "  plt.show()"
   ]
  },
  {
   "cell_type": "code",
   "execution_count": 27,
   "metadata": {
    "colab": {
     "base_uri": "https://localhost:8080/",
     "height": 541
    },
    "id": "LTCMdxNmQdB5",
    "outputId": "d80d7e68-a548-4ae6-c7d7-c937dea770ff"
   },
   "outputs": [
    {
     "data": {
      "image/png": "[encoded data removed]",
      "text/plain": [
       "<Figure size 432x288 with 1 Axes>"
      ]
     },
     "metadata": {
      "needs_background": "light"
     },
     "output_type": "display_data"
    },
    {
     "data": {
      "image/png": "[encoded data removed]",
      "text/plain": [
       "<Figure size 432x288 with 1 Axes>"
      ]
     },
     "metadata": {
      "needs_background": "light"
     },
     "output_type": "display_data"
    }
   ],
   "source": [
    "plot_graphs(history, \"accuracy\")\n",
    "plot_graphs(history, \"loss\")"
   ]
  },
  {
   "cell_type": "markdown",
   "metadata": {
    "id": "PGW5fYYCdSMc"
   },
   "source": [
    "Predictions on a test set:"
   ]
  },
  {
   "cell_type": "code",
   "execution_count": 28,
   "metadata": {
    "colab": {
     "base_uri": "https://localhost:8080/"
    },
    "id": "qLQd0ySGQdFp",
    "outputId": "0b761051-04d6-4773-d120-cd700b8c8c03"
   },
   "outputs": [
    {
     "name": "stdout",
     "output_type": "stream",
     "text": [
      "700/700 [==============================] - 869s 1s/step - loss: 0.1244 - accuracy: 0.9780\n",
      "Test accuracy : 0.9779664874076843\n"
     ]
    }
   ],
   "source": [
    "loss, accuracy = model.evaluate([X_test_input_ids, X_test_attention_mask], y_test)\n",
    "print('Test accuracy :', accuracy)"
   ]
  },
  {
   "cell_type": "code",
   "execution_count": 41,
   "metadata": {},
   "outputs": [],
   "source": [
    "from tensorflow.keras.models import save_model\n",
    "save_model(model, \"modelv1.h5\")"
   ]
  },
  {
   "cell_type": "code",
   "execution_count": 42,
   "metadata": {},
   "outputs": [],
   "source": [
    "from tensorflow.keras.models import load_model\n",
    " \n",
    "# load model\n",
    "from keras.models import load_model\n",
    "# Assuming your model includes instance of an \"AttentionLayer\" class\n",
    "loaded_model = tf.keras.models.load_model('modelv1.h5',custom_objects={'TFDistilBertModel':TFDistilBertModel}) "
   ]
  },
  {
   "cell_type": "code",
   "execution_count": 50,
   "metadata": {},
   "outputs": [
    {
     "name": "stdout",
     "output_type": "stream",
     "text": [
      "700/700 [==============================] - 1087s 2s/step\n"
     ]
    }
   ],
   "source": [
    "y_pred=loaded_model.predict([X_test_input_ids, X_test_attention_mask])"
   ]
  },
  {
   "cell_type": "code",
   "execution_count": 53,
   "metadata": {},
   "outputs": [
    {
     "data": {
      "text/plain": [
       "array([[0., 0., 0., ..., 0., 0., 0.],\n",
       "       [1., 0., 0., ..., 0., 0., 0.],\n",
       "       [0., 0., 0., ..., 0., 0., 0.],\n",
       "       ...,\n",
       "       [0., 0., 0., ..., 0., 0., 0.],\n",
       "       [0., 0., 0., ..., 0., 0., 0.],\n",
       "       [0., 0., 0., ..., 0., 0., 0.]], dtype=float32)"
      ]
     },
     "execution_count": 53,
     "metadata": {},
     "output_type": "execute_result"
    }
   ],
   "source": [
    "y_test"
   ]
  },
  {
   "cell_type": "code",
   "execution_count": 73,
   "metadata": {},
   "outputs": [],
   "source": [
    "from sklearn.metrics import classification_report\n",
    "import numpy as np\n",
    "y_predn = np.argmax(y_pred, axis=1) # Convert one-hot to index\n",
    "y_testn= np.argmax(y_test, axis=1)\n",
    "#print(classification_report(y_testn, y_predn, target_names=target_classes))"
   ]
  },
  {
   "cell_type": "code",
   "execution_count": 72,
   "metadata": {},
   "outputs": [
    {
     "name": "stdout",
     "output_type": "stream",
     "text": [
      "                                                                      precision    recall  f1-score   support\n",
      "\n",
      "                                  a/c_and_climatronic_control_panels       0.99      0.99      0.99       171\n",
      "                                                         abs_dsc_asr       1.00      1.00      1.00       173\n",
      "                                                      ac_compressors       0.97      0.98      0.97       151\n",
      "                                           active_suspension_modules       1.00      0.95      0.98        87\n",
      "       active_suspension_self_leveling_shock_absorbers_shock_dampers       1.00      1.00      1.00       166\n",
      "                                                             aerials       0.98      0.97      0.98       130\n",
      "                                          air_conditioning_radiators       1.00      0.96      0.98       117\n",
      "                                                    air_filter_boxes       1.00      1.00      1.00       214\n",
      "                                           air_horns_klaxons_buzzers       0.90      0.93      0.91       180\n",
      "                                           air_hoses_induction_pipes       0.96      1.00      0.98       136\n",
      "                                      air_intake_smooth_rubber_hoses       1.00      1.00      1.00       149\n",
      "                                                          alloy_rims       1.00      0.98      0.99        60\n",
      "                                                         alternators       0.99      0.97      0.98       151\n",
      "                                                          amplifiers       0.92      0.99      0.96        99\n",
      "                                                            armrests       0.99      0.98      0.98       163\n",
      "                                             automatic_transmissions       0.97      0.94      0.96       115\n",
      "                                               blinds_and_mechanisms       0.97      0.96      0.96       141\n",
      "                                              blower_motor_resistors       0.90      1.00      0.95        85\n",
      "                                                        bonnet_locks       1.00      1.00      1.00       109\n",
      "                                                  boot_lid_key_locks       1.00      1.00      1.00       154\n",
      "                                                      boot_lid_locks       0.99      1.00      1.00       141\n",
      "                                                      brake_calipers       0.99      0.99      0.99       129\n",
      "                                                         brake_discs       1.00      1.00      1.00        65\n",
      "                                              brake_master_cylinders       0.96      1.00      0.98       155\n",
      "                   bumper_shock_absorbers_support_frames_and_holders       1.00      0.99      1.00       187\n",
      "                          buttons_panel_(seats_windows_mirrors_etc.)       1.00      0.99      1.00       164\n",
      "                                                         carburetors       0.93      0.91      0.92       108\n",
      "                                             cassette_and_cd_players       0.96      0.97      0.97       103\n",
      "                                                         cd_changers       1.00      0.97      0.99        77\n",
      "                              central_vacuum_and_door_lock_actuators       0.97      0.99      0.98       137\n",
      "                                                        coil_springs       1.00      1.00      1.00       135\n",
      "                                                         commutators       1.00      1.00      1.00        66\n",
      "           compressors_for_air_suspension_hydraulic_suspension_pumps       1.00      1.00      1.00        93\n",
      "                                       control_buttons_switch_hazard       0.98      1.00      0.99       186\n",
      "                                                     conveying_pumps       0.96      0.96      0.96       179\n",
      "                                                  coolant_reservoirs       1.00      1.00      1.00        61\n",
      "                                                        cooling_fans       0.98      0.93      0.95       164\n",
      "                                                          crankcases       0.99      0.95      0.97       152\n",
      "                                                         cup_holders       0.98      0.98      0.98       128\n",
      "                                                      cylinder_heads       0.99      0.99      0.99       147\n",
      "                      dampers_for_bonnets_lids_doors_and_glove_boxes       1.00      1.00      1.00       164\n",
      "                                        decorative_masks_and_grilles       0.95      0.99      0.97       141\n",
      "                                                  delco_distributors       1.00      1.00      1.00       145\n",
      "                                               diesel_fuel_injectors       1.00      1.00      1.00       217\n",
      "                            differential_and_transfer_case_actuators       1.00      1.00      1.00        71\n",
      "                                                       differentials       0.98      0.98      0.98       120\n",
      "                                                 displays_and_gauges       0.95      0.98      0.97       143\n",
      "                                                          door_locks       0.99      0.99      0.99       174\n",
      "                                                         door_panels       0.97      0.93      0.95       122\n",
      "                                                               doors       0.98      0.94      0.96       189\n",
      "                                                        drive_shafts       0.94      0.99      0.96        90\n",
      "                                              driveshafts_propshafts       0.96      0.96      0.96        85\n",
      "                                                    dvd_tv_receivers       0.98      1.00      0.99        63\n",
      "                                               egr_and_vacuum_valves       0.99      1.00      0.99       148\n",
      "                                       electric_steering_rack_motors       0.98      0.98      0.98       130\n",
      "                                            emergency_lights_buttons       1.00      1.00      1.00       182\n",
      "                                                engine_control_units       0.99      0.93      0.96       152\n",
      "                                                       engine_mounts       0.97      0.97      0.97        88\n",
      "                                                    exterior_handles       1.00      0.99      0.99       163\n",
      "                                           external_boot_lid_handles       0.99      1.00      1.00       110\n",
      "                                                        fan_clutches       0.98      0.99      0.99       130\n",
      "                                                         fan_shrouds       0.99      0.99      0.99       136\n",
      "                                                             fenders       0.97      0.97      0.97       159\n",
      "                                                           flywheels       0.98      0.94      0.96        85\n",
      "                                                 for_air_conditioner       1.00      1.00      1.00       137\n",
      "                                                      for_antifreeze       0.98      0.99      0.99       152\n",
      "                                              for_oil_and_hydraulics       0.97      1.00      0.99       149\n",
      "                                                         front_axles       0.89      0.91      0.90       104\n",
      "                                                fuel_burning_heaters       1.00      1.00      1.00        62\n",
      "                                                fuel_hoses_and_pipes       0.97      0.98      0.97       161\n",
      "                                                fuel_injection_pumps       0.99      1.00      0.99       215\n",
      "                                              fuel_injection_systems       1.00      0.98      0.99       175\n",
      "                                                  fuel_level_sensors       0.99      0.99      0.99       179\n",
      "                                     fuel_pump_chambers_and_flangers       1.00      1.00      1.00        86\n",
      "                                                          fuel_pumps       1.00      0.99      1.00       193\n",
      "                                                          fuel_rails       1.00      1.00      1.00       195\n",
      "                                                         fuse_panels       1.00      0.99      1.00       134\n",
      "                                             gasoline_fuel_injectors       1.00      1.00      1.00       128\n",
      "     gear_shift_lever_knobs_parking_brake_handles_and_leather_covers       1.00      1.00      1.00       137\n",
      "                                                      gearbox_cables       0.99      0.98      0.99       198\n",
      "                                             gearbox_control_modules       0.98      0.96      0.97        98\n",
      "                                                  glove_compartments       1.00      1.00      1.00       190\n",
      "                             glow_plugs_coolant_and_fuel_pre_heaters       1.00      1.00      1.00       124\n",
      "                                                     gps_navigations       0.98      1.00      0.99       123\n",
      "                                     handbrake_and_gear_shift_levers       0.99      1.00      1.00       131\n",
      "                                                          hands_free       0.96      0.87      0.91       158\n",
      "                                     headlight_wipers_and_mechanisms       1.00      1.00      1.00       126\n",
      "                         heater_motor_flap_control_and_heater_valves       1.00      1.00      1.00       144\n",
      "                                                        heater_vents       1.00      1.00      1.00        56\n",
      "                                                     heating_blowers       0.99      0.98      0.98        92\n",
      "                                              heating_control_panels       0.93      0.98      0.95       198\n",
      "                                                   heating_radiators       0.99      0.99      0.99       123\n",
      "                                           hoses_and_pipes_for_turbo       0.98      1.00      0.99       182\n",
      "                                   idle_speed_motors_and_swirl_flaps       1.00      0.97      0.99       158\n",
      "                                                      ignition_coils       0.99      0.99      0.99       136\n",
      "ignition_keys_security_cylinder_locks_and_ignition_switch_connectors       0.99      1.00      0.99       138\n",
      "                                             inner_fenders_mud_flaps       1.00      1.00      1.00       164\n",
      "                                                 instrument_clusters       1.00      1.00      1.00       103\n",
      "                                                        intercoolers       0.91      0.93      0.92       114\n",
      "                                            interior_courtesy_lights       1.00      1.00      1.00       151\n",
      "                                           interior_dash_trim_panels       1.00      1.00      1.00       153\n",
      "                                                    internal_handles       1.00      0.98      0.99       124\n",
      "                                                        leaf_springs       0.98      1.00      0.99        57\n",
      "                                                      light_switches       0.96      0.99      0.98       137\n",
      "                                                        loudspeakers       0.94      0.97      0.95       122\n",
      "                                            manifolds_intake_exhaust       1.00      1.00      1.00       209\n",
      "                                               manuals_transmissions       0.87      0.84      0.85       171\n",
      "                                         mass_air_flow_meter_sensors       0.99      1.00      1.00       197\n",
      "                                                             mirrors       1.00      0.95      0.98       148\n",
      "                                                             modules       0.93      0.93      0.93       214\n",
      "                                  nozzles_for_windscreens_headlights       1.00      1.00      1.00       165\n",
      "                                                         oil_coolers       0.81      0.84      0.83        99\n",
      "                                     oil_coolers_and_heat_exchangers       0.92      0.94      0.93       154\n",
      "                                                           oil_pumps       0.97      0.93      0.95       159\n",
      "                                                 park_assist_sensors       0.93      0.96      0.95       108\n",
      "                                            pistons_cylinder_sleeves       0.98      1.00      0.99        80\n",
      "                                         plastic_panels_and_elements       1.00      1.00      1.00       154\n",
      "                                       power_motor_window_regulators       0.91      0.92      0.91       135\n",
      "                                                power_steering_pumps       1.00      1.00      1.00       131\n",
      "                                              pulleys_and_tensioners       1.00      1.00      1.00       165\n",
      "                                                          rear_axles       0.94      0.99      0.96       147\n",
      "                                                              relays       0.97      0.95      0.96       136\n",
      "                                                                rods       0.92      0.95      0.94       124\n",
      "                                  roof_racks_luggage_rack_roof_rails       0.99      1.00      0.99       154\n",
      "                                                          seat_belts       0.95      1.00      0.97        78\n",
      "                                                             sensors       0.87      0.90      0.88       165\n",
      "                                                               servo       1.00      1.00      1.00       151\n",
      "                                                              shafts       0.92      0.89      0.90       159\n",
      "                                                         side_skirts       0.95      0.98      0.97       128\n",
      "                                                        side_windows       0.99      0.96      0.98       186\n",
      "                                                         skid_plates       0.96      0.97      0.96       110\n",
      "                                   spare_wheel_holders_tool_box_kits       1.00      1.00      1.00        86\n",
      "                                             spare_wheels_with_tires       1.00      1.00      1.00        71\n",
      "                                                            spoilers       0.88      0.94      0.91       120\n",
      "                                                            starters       0.99      0.99      0.99       137\n",
      "                                                          steel_rims       1.00      0.99      1.00       124\n",
      "                                                      steering_boxes       0.95      0.93      0.94       109\n",
      "                               steering_shafts_steering_wheel_joints       1.00      1.00      1.00       151\n",
      "                                        steering_wheel_ribbon_cables       1.00      1.00      1.00       128\n",
      "                                                     steering_wheels       0.98      0.97      0.98       162\n",
      "                                                          subwoofers       0.95      0.91      0.93        78\n",
      "                                                        summer_tires       1.00      1.00      1.00        59\n",
      "                                                          sun_visors       0.98      1.00      0.99        63\n",
      "                                                            sunroofs       0.98      0.97      0.98       195\n",
      "         suspension_spheres_valves_hydraulic_suspension_distributors       1.00      1.00      1.00       111\n",
      "                                                         thermostats       0.92      0.93      0.92       109\n",
      "                                             throttle_potentiometers       0.97      1.00      0.98       120\n",
      "                                                           throttles       1.00      0.99      1.00       228\n",
      "                                         tool_kits_and_lifting_jacks       1.00      1.00      1.00       158\n",
      "                                                   torque_converters       0.96      1.00      0.98        70\n",
      "                                                        towing_hooks       1.00      1.00      1.00       103\n",
      "                                                      transfer_cases       0.99      0.98      0.99       131\n",
      "                                            trims_and_caps__external       0.96      0.95      0.96       169\n",
      "                                               trunk_interior_covers       1.00      1.00      1.00       150\n",
      "                                                turbos_and_actuators       0.99      0.93      0.96       147\n",
      "                                                        vacuum_pumps       0.99      0.95      0.97       146\n",
      "                                                variators_oil_valves       0.97      0.99      0.98       105\n",
      "                           water_connections_and_thermostat_housings       0.99      1.00      1.00       174\n",
      "                                    water_pump_heater_coolant_motors       1.00      1.00      1.00       139\n",
      "                                                     water_radiators       0.99      0.99      0.99       135\n",
      "                                             windshield_washer_pumps       1.00      0.97      0.98        62\n",
      "                                         windshield_wiper_mechanisms       0.97      0.96      0.97       194\n",
      "                                        windshield_wipers_reservoirs       0.98      1.00      0.99        79\n",
      "                                                        winter_tires       1.00      1.00      1.00        73\n",
      "                                            wipers_and_lights_levers       1.00      1.00      1.00       129\n",
      "                                                             wirings       0.96      0.96      0.96        91\n",
      "\n",
      "                                                            accuracy                           0.98     22375\n",
      "                                                           macro avg       0.98      0.98      0.98     22375\n",
      "                                                        weighted avg       0.98      0.98      0.98     22375\n",
      "\n"
     ]
    }
   ],
   "source": [
    "print(classification_report(y_testn, y_predn, target_names=target_classes))"
   ]
  },
  {
   "cell_type": "code",
   "execution_count": 59,
   "metadata": {},
   "outputs": [],
   "source": [
    "report = classification_report(y_testn, y_predn, target_names=target_classes, output_dict=True)"
   ]
  },
  {
   "cell_type": "code",
   "execution_count": 63,
   "metadata": {},
   "outputs": [],
   "source": [
    "df_test = pd.DataFrame(report).transpose()"
   ]
  },
  {
   "cell_type": "code",
   "execution_count": 69,
   "metadata": {},
   "outputs": [
    {
     "data": {
      "text/html": [
       "<div>\n",
       "<style scoped>\n",
       "    .dataframe tbody tr th:only-of-type {\n",
       "        vertical-align: middle;\n",
       "    }\n",
       "\n",
       "    .dataframe tbody tr th {\n",
       "        vertical-align: top;\n",
       "    }\n",
       "\n",
       "    .dataframe thead th {\n",
       "        text-align: right;\n",
       "    }\n",
       "</style>\n",
       "<table border=\"1\" class=\"dataframe\">\n",
       "  <thead>\n",
       "    <tr style=\"text-align: right;\">\n",
       "      <th></th>\n",
       "      <th>precision</th>\n",
       "      <th>recall</th>\n",
       "      <th>f1-score</th>\n",
       "      <th>support</th>\n",
       "    </tr>\n",
       "  </thead>\n",
       "  <tbody>\n",
       "    <tr>\n",
       "      <th>a/c_and_climatronic_control_panels</th>\n",
       "      <td>0.988304</td>\n",
       "      <td>0.988304</td>\n",
       "      <td>0.988304</td>\n",
       "      <td>171.0</td>\n",
       "    </tr>\n",
       "    <tr>\n",
       "      <th>abs_dsc_asr</th>\n",
       "      <td>1.000000</td>\n",
       "      <td>1.000000</td>\n",
       "      <td>1.000000</td>\n",
       "      <td>173.0</td>\n",
       "    </tr>\n",
       "    <tr>\n",
       "      <th>ac_compressors</th>\n",
       "      <td>0.967320</td>\n",
       "      <td>0.980132</td>\n",
       "      <td>0.973684</td>\n",
       "      <td>151.0</td>\n",
       "    </tr>\n",
       "    <tr>\n",
       "      <th>active_suspension_modules</th>\n",
       "      <td>1.000000</td>\n",
       "      <td>0.954023</td>\n",
       "      <td>0.976471</td>\n",
       "      <td>87.0</td>\n",
       "    </tr>\n",
       "    <tr>\n",
       "      <th>active_suspension_self_leveling_shock_absorbers_shock_dampers</th>\n",
       "      <td>1.000000</td>\n",
       "      <td>1.000000</td>\n",
       "      <td>1.000000</td>\n",
       "      <td>166.0</td>\n",
       "    </tr>\n",
       "    <tr>\n",
       "      <th>...</th>\n",
       "      <td>...</td>\n",
       "      <td>...</td>\n",
       "      <td>...</td>\n",
       "      <td>...</td>\n",
       "    </tr>\n",
       "    <tr>\n",
       "      <th>vacuum_pumps</th>\n",
       "      <td>0.985816</td>\n",
       "      <td>0.952055</td>\n",
       "      <td>0.968641</td>\n",
       "      <td>146.0</td>\n",
       "    </tr>\n",
       "    <tr>\n",
       "      <th>variators_oil_valves</th>\n",
       "      <td>0.971963</td>\n",
       "      <td>0.990476</td>\n",
       "      <td>0.981132</td>\n",
       "      <td>105.0</td>\n",
       "    </tr>\n",
       "    <tr>\n",
       "      <th>water_connections_and_thermostat_housings</th>\n",
       "      <td>0.994286</td>\n",
       "      <td>1.000000</td>\n",
       "      <td>0.997135</td>\n",
       "      <td>174.0</td>\n",
       "    </tr>\n",
       "    <tr>\n",
       "      <th>water_pump_heater_coolant_motors</th>\n",
       "      <td>1.000000</td>\n",
       "      <td>1.000000</td>\n",
       "      <td>1.000000</td>\n",
       "      <td>139.0</td>\n",
       "    </tr>\n",
       "    <tr>\n",
       "      <th>water_radiators</th>\n",
       "      <td>0.985185</td>\n",
       "      <td>0.985185</td>\n",
       "      <td>0.985185</td>\n",
       "      <td>135.0</td>\n",
       "    </tr>\n",
       "  </tbody>\n",
       "</table>\n",
       "<p>160 rows × 4 columns</p>\n",
       "</div>"
      ],
      "text/plain": [
       "                                                    precision    recall  \\\n",
       "a/c_and_climatronic_control_panels                   0.988304  0.988304   \n",
       "abs_dsc_asr                                          1.000000  1.000000   \n",
       "ac_compressors                                       0.967320  0.980132   \n",
       "active_suspension_modules                            1.000000  0.954023   \n",
       "active_suspension_self_leveling_shock_absorbers...   1.000000  1.000000   \n",
       "...                                                       ...       ...   \n",
       "vacuum_pumps                                         0.985816  0.952055   \n",
       "variators_oil_valves                                 0.971963  0.990476   \n",
       "water_connections_and_thermostat_housings            0.994286  1.000000   \n",
       "water_pump_heater_coolant_motors                     1.000000  1.000000   \n",
       "water_radiators                                      0.985185  0.985185   \n",
       "\n",
       "                                                    f1-score  support  \n",
       "a/c_and_climatronic_control_panels                  0.988304    171.0  \n",
       "abs_dsc_asr                                         1.000000    173.0  \n",
       "ac_compressors                                      0.973684    151.0  \n",
       "active_suspension_modules                           0.976471     87.0  \n",
       "active_suspension_self_leveling_shock_absorbers...  1.000000    166.0  \n",
       "...                                                      ...      ...  \n",
       "vacuum_pumps                                        0.968641    146.0  \n",
       "variators_oil_valves                                0.981132    105.0  \n",
       "water_connections_and_thermostat_housings           0.997135    174.0  \n",
       "water_pump_heater_coolant_motors                    1.000000    139.0  \n",
       "water_radiators                                     0.985185    135.0  \n",
       "\n",
       "[160 rows x 4 columns]"
      ]
     },
     "execution_count": 69,
     "metadata": {},
     "output_type": "execute_result"
    }
   ],
   "source": [
    "df_test.head(160)"
   ]
  },
  {
   "cell_type": "code",
   "execution_count": null,
   "metadata": {},
   "outputs": [],
   "source": []
  },
  {
   "cell_type": "code",
   "execution_count": null,
   "metadata": {},
   "outputs": [],
   "source": []
  }
 ],
 "metadata": {
  "accelerator": "GPU",
  "colab": {
   "provenance": [],
   "toc_visible": true
  },
  "kernelspec": {
   "display_name": "Python 3 (ipykernel)",
   "language": "python",
   "name": "python3"
  },
  "language_info": {
   "codemirror_mode": {
    "name": "ipython",
    "version": 3
   },
   "file_extension": ".py",
   "mimetype": "text/x-python",
   "name": "python",
   "nbconvert_exporter": "python",
   "pygments_lexer": "ipython3",
   "version": "3.9.12"
  },
  "widgets": {
   "application/vnd.jupyter.widget-state+json": {
    "0266b2cf600b4209aa0673bb9e512aa2": {
     "model_module": "@jupyter-widgets/controls",
     "model_module_version": "1.5.0",
     "model_name": "HBoxModel",
     "state": {
      "_dom_classes": [],
      "_model_module": "@jupyter-widgets/controls",
      "_model_module_version": "1.5.0",
      "_model_name": "HBoxModel",
      "_view_count": null,
      "_view_module": "@jupyter-widgets/controls",
      "_view_module_version": "1.5.0",
      "_view_name": "HBoxView",
      "box_style": "",
      "children": [
       "IPY_MODEL_1337f399db814620836efe55a2aadaa5",
       "IPY_MODEL_7d03fc44c9674b6a92d374dee17d804b",
       "IPY_MODEL_800b172df7774d79921cfd2ca3084a2d"
      ],
      "layout": "IPY_MODEL_07b14129db1e4dfbbc5ce10cb9331da4"
     }
    },
    "07b14129db1e4dfbbc5ce10cb9331da4": {
     "model_module": "@jupyter-widgets/base",
     "model_module_version": "1.2.0",
     "model_name": "LayoutModel",
     "state": {
      "_model_module": "@jupyter-widgets/base",
      "_model_module_version": "1.2.0",
      "_model_name": "LayoutModel",
      "_view_count": null,
      "_view_module": "@jupyter-widgets/base",
      "_view_module_version": "1.2.0",
      "_view_name": "LayoutView",
      "align_content": null,
      "align_items": null,
      "align_self": null,
      "border": null,
      "bottom": null,
      "display": null,
      "flex": null,
      "flex_flow": null,
      "grid_area": null,
      "grid_auto_columns": null,
      "grid_auto_flow": null,
      "grid_auto_rows": null,
      "grid_column": null,
      "grid_gap": null,
      "grid_row": null,
      "grid_template_areas": null,
      "grid_template_columns": null,
      "grid_template_rows": null,
      "height": null,
      "justify_content": null,
      "justify_items": null,
      "left": null,
      "margin": null,
      "max_height": null,
      "max_width": null,
      "min_height": null,
      "min_width": null,
      "object_fit": null,
      "object_position": null,
      "order": null,
      "overflow": null,
      "overflow_x": null,
      "overflow_y": null,
      "padding": null,
      "right": null,
      "top": null,
      "visibility": null,
      "width": null
     }
    },
    "0a0094391cf3409d8574a450ccd5b263": {
     "model_module": "@jupyter-widgets/controls",
     "model_module_version": "1.5.0",
     "model_name": "HBoxModel",
     "state": {
      "_dom_classes": [],
      "_model_module": "@jupyter-widgets/controls",
      "_model_module_version": "1.5.0",
      "_model_name": "HBoxModel",
      "_view_count": null,
      "_view_module": "@jupyter-widgets/controls",
      "_view_module_version": "1.5.0",
      "_view_name": "HBoxView",
      "box_style": "",
      "children": [
       "IPY_MODEL_3701aa17c0e345c283701d9b79983f9d",
       "IPY_MODEL_1d1459cf08494cafbfc7afc8e6942700",
       "IPY_MODEL_962af6ae5c884d0e9f77b7aea24964ec"
      ],
      "layout": "IPY_MODEL_b97a47610e034e61bdbf5702ff184004"
     }
    },
    "0cfdb39876964a92944e59bc924741c4": {
     "model_module": "@jupyter-widgets/base",
     "model_module_version": "1.2.0",
     "model_name": "LayoutModel",
     "state": {
      "_model_module": "@jupyter-widgets/base",
      "_model_module_version": "1.2.0",
      "_model_name": "LayoutModel",
      "_view_count": null,
      "_view_module": "@jupyter-widgets/base",
      "_view_module_version": "1.2.0",
      "_view_name": "LayoutView",
      "align_content": null,
      "align_items": null,
      "align_self": null,
      "border": null,
      "bottom": null,
      "display": null,
      "flex": null,
      "flex_flow": null,
      "grid_area": null,
      "grid_auto_columns": null,
      "grid_auto_flow": null,
      "grid_auto_rows": null,
      "grid_column": null,
      "grid_gap": null,
      "grid_row": null,
      "grid_template_areas": null,
      "grid_template_columns": null,
      "grid_template_rows": null,
      "height": null,
      "justify_content": null,
      "justify_items": null,
      "left": null,
      "margin": null,
      "max_height": null,
      "max_width": null,
      "min_height": null,
      "min_width": null,
      "object_fit": null,
      "object_position": null,
      "order": null,
      "overflow": null,
      "overflow_x": null,
      "overflow_y": null,
      "padding": null,
      "right": null,
      "top": null,
      "visibility": null,
      "width": null
     }
    },
    "0e8608a2666341caa6a8684ba3bdaf7e": {
     "model_module": "@jupyter-widgets/controls",
     "model_module_version": "1.5.0",
     "model_name": "DescriptionStyleModel",
     "state": {
      "_model_module": "@jupyter-widgets/controls",
      "_model_module_version": "1.5.0",
      "_model_name": "DescriptionStyleModel",
      "_view_count": null,
      "_view_module": "@jupyter-widgets/base",
      "_view_module_version": "1.2.0",
      "_view_name": "StyleView",
      "description_width": ""
     }
    },
    "1337f399db814620836efe55a2aadaa5": {
     "model_module": "@jupyter-widgets/controls",
     "model_module_version": "1.5.0",
     "model_name": "HTMLModel",
     "state": {
      "_dom_classes": [],
      "_model_module": "@jupyter-widgets/controls",
      "_model_module_version": "1.5.0",
      "_model_name": "HTMLModel",
      "_view_count": null,
      "_view_module": "@jupyter-widgets/controls",
      "_view_module_version": "1.5.0",
      "_view_name": "HTMLView",
      "description": "",
      "description_tooltip": null,
      "layout": "IPY_MODEL_567f369cf1d84b7ab530ce9c0be49c5a",
      "placeholder": "​",
      "style": "IPY_MODEL_c126a32efe4c455389cffb7998ea6c28",
      "value": "Downloading: 100%"
     }
    },
    "17d395ca2c7e4caa911d33f723e5a717": {
     "model_module": "@jupyter-widgets/controls",
     "model_module_version": "1.5.0",
     "model_name": "ProgressStyleModel",
     "state": {
      "_model_module": "@jupyter-widgets/controls",
      "_model_module_version": "1.5.0",
      "_model_name": "ProgressStyleModel",
      "_view_count": null,
      "_view_module": "@jupyter-widgets/base",
      "_view_module_version": "1.2.0",
      "_view_name": "StyleView",
      "bar_color": null,
      "description_width": ""
     }
    },
    "1cb16f147af34b73acbc11a30ea89e43": {
     "model_module": "@jupyter-widgets/base",
     "model_module_version": "1.2.0",
     "model_name": "LayoutModel",
     "state": {
      "_model_module": "@jupyter-widgets/base",
      "_model_module_version": "1.2.0",
      "_model_name": "LayoutModel",
      "_view_count": null,
      "_view_module": "@jupyter-widgets/base",
      "_view_module_version": "1.2.0",
      "_view_name": "LayoutView",
      "align_content": null,
      "align_items": null,
      "align_self": null,
      "border": null,
      "bottom": null,
      "display": null,
      "flex": null,
      "flex_flow": null,
      "grid_area": null,
      "grid_auto_columns": null,
      "grid_auto_flow": null,
      "grid_auto_rows": null,
      "grid_column": null,
      "grid_gap": null,
      "grid_row": null,
      "grid_template_areas": null,
      "grid_template_columns": null,
      "grid_template_rows": null,
      "height": null,
      "justify_content": null,
      "justify_items": null,
      "left": null,
      "margin": null,
      "max_height": null,
      "max_width": null,
      "min_height": null,
      "min_width": null,
      "object_fit": null,
      "object_position": null,
      "order": null,
      "overflow": null,
      "overflow_x": null,
      "overflow_y": null,
      "padding": null,
      "right": null,
      "top": null,
      "visibility": null,
      "width": null
     }
    },
    "1d1459cf08494cafbfc7afc8e6942700": {
     "model_module": "@jupyter-widgets/controls",
     "model_module_version": "1.5.0",
     "model_name": "FloatProgressModel",
     "state": {
      "_dom_classes": [],
      "_model_module": "@jupyter-widgets/controls",
      "_model_module_version": "1.5.0",
      "_model_name": "FloatProgressModel",
      "_view_count": null,
      "_view_module": "@jupyter-widgets/controls",
      "_view_module_version": "1.5.0",
      "_view_name": "ProgressView",
      "bar_style": "success",
      "description": "",
      "description_tooltip": null,
      "layout": "IPY_MODEL_7065eb709da34671a109918df668ca1f",
      "max": 363423424,
      "min": 0,
      "orientation": "horizontal",
      "style": "IPY_MODEL_fe2fdf2028bd4f7f974f8010972844de",
      "value": 363423424
     }
    },
    "1e46de278726457a93f3e8e6fdc0d09a": {
     "model_module": "@jupyter-widgets/controls",
     "model_module_version": "1.5.0",
     "model_name": "HBoxModel",
     "state": {
      "_dom_classes": [],
      "_model_module": "@jupyter-widgets/controls",
      "_model_module_version": "1.5.0",
      "_model_name": "HBoxModel",
      "_view_count": null,
      "_view_module": "@jupyter-widgets/controls",
      "_view_module_version": "1.5.0",
      "_view_name": "HBoxView",
      "box_style": "",
      "children": [
       "IPY_MODEL_395c12691ea04d3a912efdd54949f0c7",
       "IPY_MODEL_bf904aa9eeae4dcb9cb2bb4cf65547ed",
       "IPY_MODEL_290b9b358a804e409bb0dae06db7688e"
      ],
      "layout": "IPY_MODEL_8dfcf0d7d13e494db49f50b07f7e9260"
     }
    },
    "290b9b358a804e409bb0dae06db7688e": {
     "model_module": "@jupyter-widgets/controls",
     "model_module_version": "1.5.0",
     "model_name": "HTMLModel",
     "state": {
      "_dom_classes": [],
      "_model_module": "@jupyter-widgets/controls",
      "_model_module_version": "1.5.0",
      "_model_name": "HTMLModel",
      "_view_count": null,
      "_view_module": "@jupyter-widgets/controls",
      "_view_module_version": "1.5.0",
      "_view_name": "HTMLView",
      "description": "",
      "description_tooltip": null,
      "layout": "IPY_MODEL_c603769b12d741a0a04567ecbc456c71",
      "placeholder": "​",
      "style": "IPY_MODEL_3b4b5cad39b942139a2cc6943da7aba5",
      "value": " 28.0/28.0 [00:00&lt;00:00, 836B/s]"
     }
    },
    "2b2d62fecbfe4a9189479ecb1499fe3e": {
     "model_module": "@jupyter-widgets/base",
     "model_module_version": "1.2.0",
     "model_name": "LayoutModel",
     "state": {
      "_model_module": "@jupyter-widgets/base",
      "_model_module_version": "1.2.0",
      "_model_name": "LayoutModel",
      "_view_count": null,
      "_view_module": "@jupyter-widgets/base",
      "_view_module_version": "1.2.0",
      "_view_name": "LayoutView",
      "align_content": null,
      "align_items": null,
      "align_self": null,
      "border": null,
      "bottom": null,
      "display": null,
      "flex": null,
      "flex_flow": null,
      "grid_area": null,
      "grid_auto_columns": null,
      "grid_auto_flow": null,
      "grid_auto_rows": null,
      "grid_column": null,
      "grid_gap": null,
      "grid_row": null,
      "grid_template_areas": null,
      "grid_template_columns": null,
      "grid_template_rows": null,
      "height": null,
      "justify_content": null,
      "justify_items": null,
      "left": null,
      "margin": null,
      "max_height": null,
      "max_width": null,
      "min_height": null,
      "min_width": null,
      "object_fit": null,
      "object_position": null,
      "order": null,
      "overflow": null,
      "overflow_x": null,
      "overflow_y": null,
      "padding": null,
      "right": null,
      "top": null,
      "visibility": null,
      "width": null
     }
    },
    "3701aa17c0e345c283701d9b79983f9d": {
     "model_module": "@jupyter-widgets/controls",
     "model_module_version": "1.5.0",
     "model_name": "HTMLModel",
     "state": {
      "_dom_classes": [],
      "_model_module": "@jupyter-widgets/controls",
      "_model_module_version": "1.5.0",
      "_model_name": "HTMLModel",
      "_view_count": null,
      "_view_module": "@jupyter-widgets/controls",
      "_view_module_version": "1.5.0",
      "_view_name": "HTMLView",
      "description": "",
      "description_tooltip": null,
      "layout": "IPY_MODEL_b28ddcf7a25a40beaada4ccf1891553d",
      "placeholder": "​",
      "style": "IPY_MODEL_ac60f8cd5af44a6cbc05d8edcc098e99",
      "value": "Downloading: 100%"
     }
    },
    "395c12691ea04d3a912efdd54949f0c7": {
     "model_module": "@jupyter-widgets/controls",
     "model_module_version": "1.5.0",
     "model_name": "HTMLModel",
     "state": {
      "_dom_classes": [],
      "_model_module": "@jupyter-widgets/controls",
      "_model_module_version": "1.5.0",
      "_model_name": "HTMLModel",
      "_view_count": null,
      "_view_module": "@jupyter-widgets/controls",
      "_view_module_version": "1.5.0",
      "_view_name": "HTMLView",
      "description": "",
      "description_tooltip": null,
      "layout": "IPY_MODEL_aa12c34ee5db4257ab39fcd6e1120e72",
      "placeholder": "​",
      "style": "IPY_MODEL_d22468f1640d4af68be362dcec032c1a",
      "value": "Downloading: 100%"
     }
    },
    "3b4b5cad39b942139a2cc6943da7aba5": {
     "model_module": "@jupyter-widgets/controls",
     "model_module_version": "1.5.0",
     "model_name": "DescriptionStyleModel",
     "state": {
      "_model_module": "@jupyter-widgets/controls",
      "_model_module_version": "1.5.0",
      "_model_name": "DescriptionStyleModel",
      "_view_count": null,
      "_view_module": "@jupyter-widgets/base",
      "_view_module_version": "1.2.0",
      "_view_name": "StyleView",
      "description_width": ""
     }
    },
    "3cd55dbb25ed4466be6162baa88d2cfe": {
     "model_module": "@jupyter-widgets/base",
     "model_module_version": "1.2.0",
     "model_name": "LayoutModel",
     "state": {
      "_model_module": "@jupyter-widgets/base",
      "_model_module_version": "1.2.0",
      "_model_name": "LayoutModel",
      "_view_count": null,
      "_view_module": "@jupyter-widgets/base",
      "_view_module_version": "1.2.0",
      "_view_name": "LayoutView",
      "align_content": null,
      "align_items": null,
      "align_self": null,
      "border": null,
      "bottom": null,
      "display": null,
      "flex": null,
      "flex_flow": null,
      "grid_area": null,
      "grid_auto_columns": null,
      "grid_auto_flow": null,
      "grid_auto_rows": null,
      "grid_column": null,
      "grid_gap": null,
      "grid_row": null,
      "grid_template_areas": null,
      "grid_template_columns": null,
      "grid_template_rows": null,
      "height": null,
      "justify_content": null,
      "justify_items": null,
      "left": null,
      "margin": null,
      "max_height": null,
      "max_width": null,
      "min_height": null,
      "min_width": null,
      "object_fit": null,
      "object_position": null,
      "order": null,
      "overflow": null,
      "overflow_x": null,
      "overflow_y": null,
      "padding": null,
      "right": null,
      "top": null,
      "visibility": null,
      "width": null
     }
    },
    "3df7846256e9432e899688efe8fa5e05": {
     "model_module": "@jupyter-widgets/base",
     "model_module_version": "1.2.0",
     "model_name": "LayoutModel",
     "state": {
      "_model_module": "@jupyter-widgets/base",
      "_model_module_version": "1.2.0",
      "_model_name": "LayoutModel",
      "_view_count": null,
      "_view_module": "@jupyter-widgets/base",
      "_view_module_version": "1.2.0",
      "_view_name": "LayoutView",
      "align_content": null,
      "align_items": null,
      "align_self": null,
      "border": null,
      "bottom": null,
      "display": null,
      "flex": null,
      "flex_flow": null,
      "grid_area": null,
      "grid_auto_columns": null,
      "grid_auto_flow": null,
      "grid_auto_rows": null,
      "grid_column": null,
      "grid_gap": null,
      "grid_row": null,
      "grid_template_areas": null,
      "grid_template_columns": null,
      "grid_template_rows": null,
      "height": null,
      "justify_content": null,
      "justify_items": null,
      "left": null,
      "margin": null,
      "max_height": null,
      "max_width": null,
      "min_height": null,
      "min_width": null,
      "object_fit": null,
      "object_position": null,
      "order": null,
      "overflow": null,
      "overflow_x": null,
      "overflow_y": null,
      "padding": null,
      "right": null,
      "top": null,
      "visibility": null,
      "width": null
     }
    },
    "4e8f37564af8479db8c043b8b7ca1b01": {
     "model_module": "@jupyter-widgets/controls",
     "model_module_version": "1.5.0",
     "model_name": "DescriptionStyleModel",
     "state": {
      "_model_module": "@jupyter-widgets/controls",
      "_model_module_version": "1.5.0",
      "_model_name": "DescriptionStyleModel",
      "_view_count": null,
      "_view_module": "@jupyter-widgets/base",
      "_view_module_version": "1.2.0",
      "_view_name": "StyleView",
      "description_width": ""
     }
    },
    "567f369cf1d84b7ab530ce9c0be49c5a": {
     "model_module": "@jupyter-widgets/base",
     "model_module_version": "1.2.0",
     "model_name": "LayoutModel",
     "state": {
      "_model_module": "@jupyter-widgets/base",
      "_model_module_version": "1.2.0",
      "_model_name": "LayoutModel",
      "_view_count": null,
      "_view_module": "@jupyter-widgets/base",
      "_view_module_version": "1.2.0",
      "_view_name": "LayoutView",
      "align_content": null,
      "align_items": null,
      "align_self": null,
      "border": null,
      "bottom": null,
      "display": null,
      "flex": null,
      "flex_flow": null,
      "grid_area": null,
      "grid_auto_columns": null,
      "grid_auto_flow": null,
      "grid_auto_rows": null,
      "grid_column": null,
      "grid_gap": null,
      "grid_row": null,
      "grid_template_areas": null,
      "grid_template_columns": null,
      "grid_template_rows": null,
      "height": null,
      "justify_content": null,
      "justify_items": null,
      "left": null,
      "margin": null,
      "max_height": null,
      "max_width": null,
      "min_height": null,
      "min_width": null,
      "object_fit": null,
      "object_position": null,
      "order": null,
      "overflow": null,
      "overflow_x": null,
      "overflow_y": null,
      "padding": null,
      "right": null,
      "top": null,
      "visibility": null,
      "width": null
     }
    },
    "62b6af4e86f84a0d984e3a257e7ccf11": {
     "model_module": "@jupyter-widgets/base",
     "model_module_version": "1.2.0",
     "model_name": "LayoutModel",
     "state": {
      "_model_module": "@jupyter-widgets/base",
      "_model_module_version": "1.2.0",
      "_model_name": "LayoutModel",
      "_view_count": null,
      "_view_module": "@jupyter-widgets/base",
      "_view_module_version": "1.2.0",
      "_view_name": "LayoutView",
      "align_content": null,
      "align_items": null,
      "align_self": null,
      "border": null,
      "bottom": null,
      "display": null,
      "flex": null,
      "flex_flow": null,
      "grid_area": null,
      "grid_auto_columns": null,
      "grid_auto_flow": null,
      "grid_auto_rows": null,
      "grid_column": null,
      "grid_gap": null,
      "grid_row": null,
      "grid_template_areas": null,
      "grid_template_columns": null,
      "grid_template_rows": null,
      "height": null,
      "justify_content": null,
      "justify_items": null,
      "left": null,
      "margin": null,
      "max_height": null,
      "max_width": null,
      "min_height": null,
      "min_width": null,
      "object_fit": null,
      "object_position": null,
      "order": null,
      "overflow": null,
      "overflow_x": null,
      "overflow_y": null,
      "padding": null,
      "right": null,
      "top": null,
      "visibility": null,
      "width": null
     }
    },
    "7065eb709da34671a109918df668ca1f": {
     "model_module": "@jupyter-widgets/base",
     "model_module_version": "1.2.0",
     "model_name": "LayoutModel",
     "state": {
      "_model_module": "@jupyter-widgets/base",
      "_model_module_version": "1.2.0",
      "_model_name": "LayoutModel",
      "_view_count": null,
      "_view_module": "@jupyter-widgets/base",
      "_view_module_version": "1.2.0",
      "_view_name": "LayoutView",
      "align_content": null,
      "align_items": null,
      "align_self": null,
      "border": null,
      "bottom": null,
      "display": null,
      "flex": null,
      "flex_flow": null,
      "grid_area": null,
      "grid_auto_columns": null,
      "grid_auto_flow": null,
      "grid_auto_rows": null,
      "grid_column": null,
      "grid_gap": null,
      "grid_row": null,
      "grid_template_areas": null,
      "grid_template_columns": null,
      "grid_template_rows": null,
      "height": null,
      "justify_content": null,
      "justify_items": null,
      "left": null,
      "margin": null,
      "max_height": null,
      "max_width": null,
      "min_height": null,
      "min_width": null,
      "object_fit": null,
      "object_position": null,
      "order": null,
      "overflow": null,
      "overflow_x": null,
      "overflow_y": null,
      "padding": null,
      "right": null,
      "top": null,
      "visibility": null,
      "width": null
     }
    },
    "73516dca46f34f8282adcfffac0bfc8e": {
     "model_module": "@jupyter-widgets/controls",
     "model_module_version": "1.5.0",
     "model_name": "ProgressStyleModel",
     "state": {
      "_model_module": "@jupyter-widgets/controls",
      "_model_module_version": "1.5.0",
      "_model_name": "ProgressStyleModel",
      "_view_count": null,
      "_view_module": "@jupyter-widgets/base",
      "_view_module_version": "1.2.0",
      "_view_name": "StyleView",
      "bar_color": null,
      "description_width": ""
     }
    },
    "7d03fc44c9674b6a92d374dee17d804b": {
     "model_module": "@jupyter-widgets/controls",
     "model_module_version": "1.5.0",
     "model_name": "FloatProgressModel",
     "state": {
      "_dom_classes": [],
      "_model_module": "@jupyter-widgets/controls",
      "_model_module_version": "1.5.0",
      "_model_name": "FloatProgressModel",
      "_view_count": null,
      "_view_module": "@jupyter-widgets/controls",
      "_view_module_version": "1.5.0",
      "_view_name": "ProgressView",
      "bar_style": "success",
      "description": "",
      "description_tooltip": null,
      "layout": "IPY_MODEL_1cb16f147af34b73acbc11a30ea89e43",
      "max": 231508,
      "min": 0,
      "orientation": "horizontal",
      "style": "IPY_MODEL_d40839a144694a1e8237c49297c25897",
      "value": 231508
     }
    },
    "800b172df7774d79921cfd2ca3084a2d": {
     "model_module": "@jupyter-widgets/controls",
     "model_module_version": "1.5.0",
     "model_name": "HTMLModel",
     "state": {
      "_dom_classes": [],
      "_model_module": "@jupyter-widgets/controls",
      "_model_module_version": "1.5.0",
      "_model_name": "HTMLModel",
      "_view_count": null,
      "_view_module": "@jupyter-widgets/controls",
      "_view_module_version": "1.5.0",
      "_view_name": "HTMLView",
      "description": "",
      "description_tooltip": null,
      "layout": "IPY_MODEL_ddb5b150e6a943e699ee5258191f2eb2",
      "placeholder": "​",
      "style": "IPY_MODEL_0e8608a2666341caa6a8684ba3bdaf7e",
      "value": " 232k/232k [00:00&lt;00:00, 306kB/s]"
     }
    },
    "8639ef6c66d14435b5bfdecf5682b1c3": {
     "model_module": "@jupyter-widgets/controls",
     "model_module_version": "1.5.0",
     "model_name": "HBoxModel",
     "state": {
      "_dom_classes": [],
      "_model_module": "@jupyter-widgets/controls",
      "_model_module_version": "1.5.0",
      "_model_name": "HBoxModel",
      "_view_count": null,
      "_view_module": "@jupyter-widgets/controls",
      "_view_module_version": "1.5.0",
      "_view_name": "HBoxView",
      "box_style": "",
      "children": [
       "IPY_MODEL_b91108fb760c4ba5990ca9b6e9767b04",
       "IPY_MODEL_ecd7ac6d610341f4aca98fd8cb0c3df5",
       "IPY_MODEL_9a1cc99cac174f469256f3cd09c0461a"
      ],
      "layout": "IPY_MODEL_0cfdb39876964a92944e59bc924741c4"
     }
    },
    "8dfcf0d7d13e494db49f50b07f7e9260": {
     "model_module": "@jupyter-widgets/base",
     "model_module_version": "1.2.0",
     "model_name": "LayoutModel",
     "state": {
      "_model_module": "@jupyter-widgets/base",
      "_model_module_version": "1.2.0",
      "_model_name": "LayoutModel",
      "_view_count": null,
      "_view_module": "@jupyter-widgets/base",
      "_view_module_version": "1.2.0",
      "_view_name": "LayoutView",
      "align_content": null,
      "align_items": null,
      "align_self": null,
      "border": null,
      "bottom": null,
      "display": null,
      "flex": null,
      "flex_flow": null,
      "grid_area": null,
      "grid_auto_columns": null,
      "grid_auto_flow": null,
      "grid_auto_rows": null,
      "grid_column": null,
      "grid_gap": null,
      "grid_row": null,
      "grid_template_areas": null,
      "grid_template_columns": null,
      "grid_template_rows": null,
      "height": null,
      "justify_content": null,
      "justify_items": null,
      "left": null,
      "margin": null,
      "max_height": null,
      "max_width": null,
      "min_height": null,
      "min_width": null,
      "object_fit": null,
      "object_position": null,
      "order": null,
      "overflow": null,
      "overflow_x": null,
      "overflow_y": null,
      "padding": null,
      "right": null,
      "top": null,
      "visibility": null,
      "width": null
     }
    },
    "962af6ae5c884d0e9f77b7aea24964ec": {
     "model_module": "@jupyter-widgets/controls",
     "model_module_version": "1.5.0",
     "model_name": "HTMLModel",
     "state": {
      "_dom_classes": [],
      "_model_module": "@jupyter-widgets/controls",
      "_model_module_version": "1.5.0",
      "_model_name": "HTMLModel",
      "_view_count": null,
      "_view_module": "@jupyter-widgets/controls",
      "_view_module_version": "1.5.0",
      "_view_name": "HTMLView",
      "description": "",
      "description_tooltip": null,
      "layout": "IPY_MODEL_2b2d62fecbfe4a9189479ecb1499fe3e",
      "placeholder": "​",
      "style": "IPY_MODEL_a02b24eb269b4ad2a97583f509d3e0fa",
      "value": " 363M/363M [00:05&lt;00:00, 74.8MB/s]"
     }
    },
    "9657da5377cc43fd8299d2797ac3cbd3": {
     "model_module": "@jupyter-widgets/base",
     "model_module_version": "1.2.0",
     "model_name": "LayoutModel",
     "state": {
      "_model_module": "@jupyter-widgets/base",
      "_model_module_version": "1.2.0",
      "_model_name": "LayoutModel",
      "_view_count": null,
      "_view_module": "@jupyter-widgets/base",
      "_view_module_version": "1.2.0",
      "_view_name": "LayoutView",
      "align_content": null,
      "align_items": null,
      "align_self": null,
      "border": null,
      "bottom": null,
      "display": null,
      "flex": null,
      "flex_flow": null,
      "grid_area": null,
      "grid_auto_columns": null,
      "grid_auto_flow": null,
      "grid_auto_rows": null,
      "grid_column": null,
      "grid_gap": null,
      "grid_row": null,
      "grid_template_areas": null,
      "grid_template_columns": null,
      "grid_template_rows": null,
      "height": null,
      "justify_content": null,
      "justify_items": null,
      "left": null,
      "margin": null,
      "max_height": null,
      "max_width": null,
      "min_height": null,
      "min_width": null,
      "object_fit": null,
      "object_position": null,
      "order": null,
      "overflow": null,
      "overflow_x": null,
      "overflow_y": null,
      "padding": null,
      "right": null,
      "top": null,
      "visibility": null,
      "width": null
     }
    },
    "98668eba92f8437f9023c4abbec52c4b": {
     "model_module": "@jupyter-widgets/controls",
     "model_module_version": "1.5.0",
     "model_name": "HBoxModel",
     "state": {
      "_dom_classes": [],
      "_model_module": "@jupyter-widgets/controls",
      "_model_module_version": "1.5.0",
      "_model_name": "HBoxModel",
      "_view_count": null,
      "_view_module": "@jupyter-widgets/controls",
      "_view_module_version": "1.5.0",
      "_view_name": "HBoxView",
      "box_style": "",
      "children": [
       "IPY_MODEL_ef23c06078b04ddea6a2da986a3f2d13",
       "IPY_MODEL_dafd235ad4644c29a8f8861b66dfa11c",
       "IPY_MODEL_b4e679c15d1342298b07768052dfcf53"
      ],
      "layout": "IPY_MODEL_3cd55dbb25ed4466be6162baa88d2cfe"
     }
    },
    "9951edffd97c4e5c9e2a31931dc08d57": {
     "model_module": "@jupyter-widgets/base",
     "model_module_version": "1.2.0",
     "model_name": "LayoutModel",
     "state": {
      "_model_module": "@jupyter-widgets/base",
      "_model_module_version": "1.2.0",
      "_model_name": "LayoutModel",
      "_view_count": null,
      "_view_module": "@jupyter-widgets/base",
      "_view_module_version": "1.2.0",
      "_view_name": "LayoutView",
      "align_content": null,
      "align_items": null,
      "align_self": null,
      "border": null,
      "bottom": null,
      "display": null,
      "flex": null,
      "flex_flow": null,
      "grid_area": null,
      "grid_auto_columns": null,
      "grid_auto_flow": null,
      "grid_auto_rows": null,
      "grid_column": null,
      "grid_gap": null,
      "grid_row": null,
      "grid_template_areas": null,
      "grid_template_columns": null,
      "grid_template_rows": null,
      "height": null,
      "justify_content": null,
      "justify_items": null,
      "left": null,
      "margin": null,
      "max_height": null,
      "max_width": null,
      "min_height": null,
      "min_width": null,
      "object_fit": null,
      "object_position": null,
      "order": null,
      "overflow": null,
      "overflow_x": null,
      "overflow_y": null,
      "padding": null,
      "right": null,
      "top": null,
      "visibility": null,
      "width": null
     }
    },
    "9a1cc99cac174f469256f3cd09c0461a": {
     "model_module": "@jupyter-widgets/controls",
     "model_module_version": "1.5.0",
     "model_name": "HTMLModel",
     "state": {
      "_dom_classes": [],
      "_model_module": "@jupyter-widgets/controls",
      "_model_module_version": "1.5.0",
      "_model_name": "HTMLModel",
      "_view_count": null,
      "_view_module": "@jupyter-widgets/controls",
      "_view_module_version": "1.5.0",
      "_view_name": "HTMLView",
      "description": "",
      "description_tooltip": null,
      "layout": "IPY_MODEL_a366c672016a4590bcfaaa7eaa345ec8",
      "placeholder": "​",
      "style": "IPY_MODEL_f008a2e060184a21b4690e0759e681cf",
      "value": " 483/483 [00:00&lt;00:00, 21.6kB/s]"
     }
    },
    "9c4bdfa0f2d54002be13dcfc26760dfb": {
     "model_module": "@jupyter-widgets/controls",
     "model_module_version": "1.5.0",
     "model_name": "DescriptionStyleModel",
     "state": {
      "_model_module": "@jupyter-widgets/controls",
      "_model_module_version": "1.5.0",
      "_model_name": "DescriptionStyleModel",
      "_view_count": null,
      "_view_module": "@jupyter-widgets/base",
      "_view_module_version": "1.2.0",
      "_view_name": "StyleView",
      "description_width": ""
     }
    },
    "a02b24eb269b4ad2a97583f509d3e0fa": {
     "model_module": "@jupyter-widgets/controls",
     "model_module_version": "1.5.0",
     "model_name": "DescriptionStyleModel",
     "state": {
      "_model_module": "@jupyter-widgets/controls",
      "_model_module_version": "1.5.0",
      "_model_name": "DescriptionStyleModel",
      "_view_count": null,
      "_view_module": "@jupyter-widgets/base",
      "_view_module_version": "1.2.0",
      "_view_name": "StyleView",
      "description_width": ""
     }
    },
    "a366c672016a4590bcfaaa7eaa345ec8": {
     "model_module": "@jupyter-widgets/base",
     "model_module_version": "1.2.0",
     "model_name": "LayoutModel",
     "state": {
      "_model_module": "@jupyter-widgets/base",
      "_model_module_version": "1.2.0",
      "_model_name": "LayoutModel",
      "_view_count": null,
      "_view_module": "@jupyter-widgets/base",
      "_view_module_version": "1.2.0",
      "_view_name": "LayoutView",
      "align_content": null,
      "align_items": null,
      "align_self": null,
      "border": null,
      "bottom": null,
      "display": null,
      "flex": null,
      "flex_flow": null,
      "grid_area": null,
      "grid_auto_columns": null,
      "grid_auto_flow": null,
      "grid_auto_rows": null,
      "grid_column": null,
      "grid_gap": null,
      "grid_row": null,
      "grid_template_areas": null,
      "grid_template_columns": null,
      "grid_template_rows": null,
      "height": null,
      "justify_content": null,
      "justify_items": null,
      "left": null,
      "margin": null,
      "max_height": null,
      "max_width": null,
      "min_height": null,
      "min_width": null,
      "object_fit": null,
      "object_position": null,
      "order": null,
      "overflow": null,
      "overflow_x": null,
      "overflow_y": null,
      "padding": null,
      "right": null,
      "top": null,
      "visibility": null,
      "width": null
     }
    },
    "aa12c34ee5db4257ab39fcd6e1120e72": {
     "model_module": "@jupyter-widgets/base",
     "model_module_version": "1.2.0",
     "model_name": "LayoutModel",
     "state": {
      "_model_module": "@jupyter-widgets/base",
      "_model_module_version": "1.2.0",
      "_model_name": "LayoutModel",
      "_view_count": null,
      "_view_module": "@jupyter-widgets/base",
      "_view_module_version": "1.2.0",
      "_view_name": "LayoutView",
      "align_content": null,
      "align_items": null,
      "align_self": null,
      "border": null,
      "bottom": null,
      "display": null,
      "flex": null,
      "flex_flow": null,
      "grid_area": null,
      "grid_auto_columns": null,
      "grid_auto_flow": null,
      "grid_auto_rows": null,
      "grid_column": null,
      "grid_gap": null,
      "grid_row": null,
      "grid_template_areas": null,
      "grid_template_columns": null,
      "grid_template_rows": null,
      "height": null,
      "justify_content": null,
      "justify_items": null,
      "left": null,
      "margin": null,
      "max_height": null,
      "max_width": null,
      "min_height": null,
      "min_width": null,
      "object_fit": null,
      "object_position": null,
      "order": null,
      "overflow": null,
      "overflow_x": null,
      "overflow_y": null,
      "padding": null,
      "right": null,
      "top": null,
      "visibility": null,
      "width": null
     }
    },
    "ac60f8cd5af44a6cbc05d8edcc098e99": {
     "model_module": "@jupyter-widgets/controls",
     "model_module_version": "1.5.0",
     "model_name": "DescriptionStyleModel",
     "state": {
      "_model_module": "@jupyter-widgets/controls",
      "_model_module_version": "1.5.0",
      "_model_name": "DescriptionStyleModel",
      "_view_count": null,
      "_view_module": "@jupyter-widgets/base",
      "_view_module_version": "1.2.0",
      "_view_name": "StyleView",
      "description_width": ""
     }
    },
    "b28ddcf7a25a40beaada4ccf1891553d": {
     "model_module": "@jupyter-widgets/base",
     "model_module_version": "1.2.0",
     "model_name": "LayoutModel",
     "state": {
      "_model_module": "@jupyter-widgets/base",
      "_model_module_version": "1.2.0",
      "_model_name": "LayoutModel",
      "_view_count": null,
      "_view_module": "@jupyter-widgets/base",
      "_view_module_version": "1.2.0",
      "_view_name": "LayoutView",
      "align_content": null,
      "align_items": null,
      "align_self": null,
      "border": null,
      "bottom": null,
      "display": null,
      "flex": null,
      "flex_flow": null,
      "grid_area": null,
      "grid_auto_columns": null,
      "grid_auto_flow": null,
      "grid_auto_rows": null,
      "grid_column": null,
      "grid_gap": null,
      "grid_row": null,
      "grid_template_areas": null,
      "grid_template_columns": null,
      "grid_template_rows": null,
      "height": null,
      "justify_content": null,
      "justify_items": null,
      "left": null,
      "margin": null,
      "max_height": null,
      "max_width": null,
      "min_height": null,
      "min_width": null,
      "object_fit": null,
      "object_position": null,
      "order": null,
      "overflow": null,
      "overflow_x": null,
      "overflow_y": null,
      "padding": null,
      "right": null,
      "top": null,
      "visibility": null,
      "width": null
     }
    },
    "b4e679c15d1342298b07768052dfcf53": {
     "model_module": "@jupyter-widgets/controls",
     "model_module_version": "1.5.0",
     "model_name": "HTMLModel",
     "state": {
      "_dom_classes": [],
      "_model_module": "@jupyter-widgets/controls",
      "_model_module_version": "1.5.0",
      "_model_name": "HTMLModel",
      "_view_count": null,
      "_view_module": "@jupyter-widgets/controls",
      "_view_module_version": "1.5.0",
      "_view_name": "HTMLView",
      "description": "",
      "description_tooltip": null,
      "layout": "IPY_MODEL_3df7846256e9432e899688efe8fa5e05",
      "placeholder": "​",
      "style": "IPY_MODEL_9c4bdfa0f2d54002be13dcfc26760dfb",
      "value": " 466k/466k [00:00&lt;00:00, 322kB/s]"
     }
    },
    "b91108fb760c4ba5990ca9b6e9767b04": {
     "model_module": "@jupyter-widgets/controls",
     "model_module_version": "1.5.0",
     "model_name": "HTMLModel",
     "state": {
      "_dom_classes": [],
      "_model_module": "@jupyter-widgets/controls",
      "_model_module_version": "1.5.0",
      "_model_name": "HTMLModel",
      "_view_count": null,
      "_view_module": "@jupyter-widgets/controls",
      "_view_module_version": "1.5.0",
      "_view_name": "HTMLView",
      "description": "",
      "description_tooltip": null,
      "layout": "IPY_MODEL_d6887df31af54e0ca8895346e1e4c1a1",
      "placeholder": "​",
      "style": "IPY_MODEL_4e8f37564af8479db8c043b8b7ca1b01",
      "value": "Downloading: 100%"
     }
    },
    "b97a47610e034e61bdbf5702ff184004": {
     "model_module": "@jupyter-widgets/base",
     "model_module_version": "1.2.0",
     "model_name": "LayoutModel",
     "state": {
      "_model_module": "@jupyter-widgets/base",
      "_model_module_version": "1.2.0",
      "_model_name": "LayoutModel",
      "_view_count": null,
      "_view_module": "@jupyter-widgets/base",
      "_view_module_version": "1.2.0",
      "_view_name": "LayoutView",
      "align_content": null,
      "align_items": null,
      "align_self": null,
      "border": null,
      "bottom": null,
      "display": null,
      "flex": null,
      "flex_flow": null,
      "grid_area": null,
      "grid_auto_columns": null,
      "grid_auto_flow": null,
      "grid_auto_rows": null,
      "grid_column": null,
      "grid_gap": null,
      "grid_row": null,
      "grid_template_areas": null,
      "grid_template_columns": null,
      "grid_template_rows": null,
      "height": null,
      "justify_content": null,
      "justify_items": null,
      "left": null,
      "margin": null,
      "max_height": null,
      "max_width": null,
      "min_height": null,
      "min_width": null,
      "object_fit": null,
      "object_position": null,
      "order": null,
      "overflow": null,
      "overflow_x": null,
      "overflow_y": null,
      "padding": null,
      "right": null,
      "top": null,
      "visibility": null,
      "width": null
     }
    },
    "bbaa6ed7c45443ea8e40e40b8313592a": {
     "model_module": "@jupyter-widgets/controls",
     "model_module_version": "1.5.0",
     "model_name": "DescriptionStyleModel",
     "state": {
      "_model_module": "@jupyter-widgets/controls",
      "_model_module_version": "1.5.0",
      "_model_name": "DescriptionStyleModel",
      "_view_count": null,
      "_view_module": "@jupyter-widgets/base",
      "_view_module_version": "1.2.0",
      "_view_name": "StyleView",
      "description_width": ""
     }
    },
    "bf904aa9eeae4dcb9cb2bb4cf65547ed": {
     "model_module": "@jupyter-widgets/controls",
     "model_module_version": "1.5.0",
     "model_name": "FloatProgressModel",
     "state": {
      "_dom_classes": [],
      "_model_module": "@jupyter-widgets/controls",
      "_model_module_version": "1.5.0",
      "_model_name": "FloatProgressModel",
      "_view_count": null,
      "_view_module": "@jupyter-widgets/controls",
      "_view_module_version": "1.5.0",
      "_view_name": "ProgressView",
      "bar_style": "success",
      "description": "",
      "description_tooltip": null,
      "layout": "IPY_MODEL_9951edffd97c4e5c9e2a31931dc08d57",
      "max": 28,
      "min": 0,
      "orientation": "horizontal",
      "style": "IPY_MODEL_c0ed2d3d48d14af79d71279f63ecfeec",
      "value": 28
     }
    },
    "c0ed2d3d48d14af79d71279f63ecfeec": {
     "model_module": "@jupyter-widgets/controls",
     "model_module_version": "1.5.0",
     "model_name": "ProgressStyleModel",
     "state": {
      "_model_module": "@jupyter-widgets/controls",
      "_model_module_version": "1.5.0",
      "_model_name": "ProgressStyleModel",
      "_view_count": null,
      "_view_module": "@jupyter-widgets/base",
      "_view_module_version": "1.2.0",
      "_view_name": "StyleView",
      "bar_color": null,
      "description_width": ""
     }
    },
    "c126a32efe4c455389cffb7998ea6c28": {
     "model_module": "@jupyter-widgets/controls",
     "model_module_version": "1.5.0",
     "model_name": "DescriptionStyleModel",
     "state": {
      "_model_module": "@jupyter-widgets/controls",
      "_model_module_version": "1.5.0",
      "_model_name": "DescriptionStyleModel",
      "_view_count": null,
      "_view_module": "@jupyter-widgets/base",
      "_view_module_version": "1.2.0",
      "_view_name": "StyleView",
      "description_width": ""
     }
    },
    "c603769b12d741a0a04567ecbc456c71": {
     "model_module": "@jupyter-widgets/base",
     "model_module_version": "1.2.0",
     "model_name": "LayoutModel",
     "state": {
      "_model_module": "@jupyter-widgets/base",
      "_model_module_version": "1.2.0",
      "_model_name": "LayoutModel",
      "_view_count": null,
      "_view_module": "@jupyter-widgets/base",
      "_view_module_version": "1.2.0",
      "_view_name": "LayoutView",
      "align_content": null,
      "align_items": null,
      "align_self": null,
      "border": null,
      "bottom": null,
      "display": null,
      "flex": null,
      "flex_flow": null,
      "grid_area": null,
      "grid_auto_columns": null,
      "grid_auto_flow": null,
      "grid_auto_rows": null,
      "grid_column": null,
      "grid_gap": null,
      "grid_row": null,
      "grid_template_areas": null,
      "grid_template_columns": null,
      "grid_template_rows": null,
      "height": null,
      "justify_content": null,
      "justify_items": null,
      "left": null,
      "margin": null,
      "max_height": null,
      "max_width": null,
      "min_height": null,
      "min_width": null,
      "object_fit": null,
      "object_position": null,
      "order": null,
      "overflow": null,
      "overflow_x": null,
      "overflow_y": null,
      "padding": null,
      "right": null,
      "top": null,
      "visibility": null,
      "width": null
     }
    },
    "d22468f1640d4af68be362dcec032c1a": {
     "model_module": "@jupyter-widgets/controls",
     "model_module_version": "1.5.0",
     "model_name": "DescriptionStyleModel",
     "state": {
      "_model_module": "@jupyter-widgets/controls",
      "_model_module_version": "1.5.0",
      "_model_name": "DescriptionStyleModel",
      "_view_count": null,
      "_view_module": "@jupyter-widgets/base",
      "_view_module_version": "1.2.0",
      "_view_name": "StyleView",
      "description_width": ""
     }
    },
    "d40839a144694a1e8237c49297c25897": {
     "model_module": "@jupyter-widgets/controls",
     "model_module_version": "1.5.0",
     "model_name": "ProgressStyleModel",
     "state": {
      "_model_module": "@jupyter-widgets/controls",
      "_model_module_version": "1.5.0",
      "_model_name": "ProgressStyleModel",
      "_view_count": null,
      "_view_module": "@jupyter-widgets/base",
      "_view_module_version": "1.2.0",
      "_view_name": "StyleView",
      "bar_color": null,
      "description_width": ""
     }
    },
    "d6887df31af54e0ca8895346e1e4c1a1": {
     "model_module": "@jupyter-widgets/base",
     "model_module_version": "1.2.0",
     "model_name": "LayoutModel",
     "state": {
      "_model_module": "@jupyter-widgets/base",
      "_model_module_version": "1.2.0",
      "_model_name": "LayoutModel",
      "_view_count": null,
      "_view_module": "@jupyter-widgets/base",
      "_view_module_version": "1.2.0",
      "_view_name": "LayoutView",
      "align_content": null,
      "align_items": null,
      "align_self": null,
      "border": null,
      "bottom": null,
      "display": null,
      "flex": null,
      "flex_flow": null,
      "grid_area": null,
      "grid_auto_columns": null,
      "grid_auto_flow": null,
      "grid_auto_rows": null,
      "grid_column": null,
      "grid_gap": null,
      "grid_row": null,
      "grid_template_areas": null,
      "grid_template_columns": null,
      "grid_template_rows": null,
      "height": null,
      "justify_content": null,
      "justify_items": null,
      "left": null,
      "margin": null,
      "max_height": null,
      "max_width": null,
      "min_height": null,
      "min_width": null,
      "object_fit": null,
      "object_position": null,
      "order": null,
      "overflow": null,
      "overflow_x": null,
      "overflow_y": null,
      "padding": null,
      "right": null,
      "top": null,
      "visibility": null,
      "width": null
     }
    },
    "dafd235ad4644c29a8f8861b66dfa11c": {
     "model_module": "@jupyter-widgets/controls",
     "model_module_version": "1.5.0",
     "model_name": "FloatProgressModel",
     "state": {
      "_dom_classes": [],
      "_model_module": "@jupyter-widgets/controls",
      "_model_module_version": "1.5.0",
      "_model_name": "FloatProgressModel",
      "_view_count": null,
      "_view_module": "@jupyter-widgets/controls",
      "_view_module_version": "1.5.0",
      "_view_name": "ProgressView",
      "bar_style": "success",
      "description": "",
      "description_tooltip": null,
      "layout": "IPY_MODEL_9657da5377cc43fd8299d2797ac3cbd3",
      "max": 466062,
      "min": 0,
      "orientation": "horizontal",
      "style": "IPY_MODEL_73516dca46f34f8282adcfffac0bfc8e",
      "value": 466062
     }
    },
    "ddb5b150e6a943e699ee5258191f2eb2": {
     "model_module": "@jupyter-widgets/base",
     "model_module_version": "1.2.0",
     "model_name": "LayoutModel",
     "state": {
      "_model_module": "@jupyter-widgets/base",
      "_model_module_version": "1.2.0",
      "_model_name": "LayoutModel",
      "_view_count": null,
      "_view_module": "@jupyter-widgets/base",
      "_view_module_version": "1.2.0",
      "_view_name": "LayoutView",
      "align_content": null,
      "align_items": null,
      "align_self": null,
      "border": null,
      "bottom": null,
      "display": null,
      "flex": null,
      "flex_flow": null,
      "grid_area": null,
      "grid_auto_columns": null,
      "grid_auto_flow": null,
      "grid_auto_rows": null,
      "grid_column": null,
      "grid_gap": null,
      "grid_row": null,
      "grid_template_areas": null,
      "grid_template_columns": null,
      "grid_template_rows": null,
      "height": null,
      "justify_content": null,
      "justify_items": null,
      "left": null,
      "margin": null,
      "max_height": null,
      "max_width": null,
      "min_height": null,
      "min_width": null,
      "object_fit": null,
      "object_position": null,
      "order": null,
      "overflow": null,
      "overflow_x": null,
      "overflow_y": null,
      "padding": null,
      "right": null,
      "top": null,
      "visibility": null,
      "width": null
     }
    },
    "ea462a116a484899a49b0ea9af9733f5": {
     "model_module": "@jupyter-widgets/base",
     "model_module_version": "1.2.0",
     "model_name": "LayoutModel",
     "state": {
      "_model_module": "@jupyter-widgets/base",
      "_model_module_version": "1.2.0",
      "_model_name": "LayoutModel",
      "_view_count": null,
      "_view_module": "@jupyter-widgets/base",
      "_view_module_version": "1.2.0",
      "_view_name": "LayoutView",
      "align_content": null,
      "align_items": null,
      "align_self": null,
      "border": null,
      "bottom": null,
      "display": null,
      "flex": null,
      "flex_flow": null,
      "grid_area": null,
      "grid_auto_columns": null,
      "grid_auto_flow": null,
      "grid_auto_rows": null,
      "grid_column": null,
      "grid_gap": null,
      "grid_row": null,
      "grid_template_areas": null,
      "grid_template_columns": null,
      "grid_template_rows": null,
      "height": null,
      "justify_content": null,
      "justify_items": null,
      "left": null,
      "margin": null,
      "max_height": null,
      "max_width": null,
      "min_height": null,
      "min_width": null,
      "object_fit": null,
      "object_position": null,
      "order": null,
      "overflow": null,
      "overflow_x": null,
      "overflow_y": null,
      "padding": null,
      "right": null,
      "top": null,
      "visibility": null,
      "width": null
     }
    },
    "ecd7ac6d610341f4aca98fd8cb0c3df5": {
     "model_module": "@jupyter-widgets/controls",
     "model_module_version": "1.5.0",
     "model_name": "FloatProgressModel",
     "state": {
      "_dom_classes": [],
      "_model_module": "@jupyter-widgets/controls",
      "_model_module_version": "1.5.0",
      "_model_name": "FloatProgressModel",
      "_view_count": null,
      "_view_module": "@jupyter-widgets/controls",
      "_view_module_version": "1.5.0",
      "_view_name": "ProgressView",
      "bar_style": "success",
      "description": "",
      "description_tooltip": null,
      "layout": "IPY_MODEL_ea462a116a484899a49b0ea9af9733f5",
      "max": 483,
      "min": 0,
      "orientation": "horizontal",
      "style": "IPY_MODEL_17d395ca2c7e4caa911d33f723e5a717",
      "value": 483
     }
    },
    "ef23c06078b04ddea6a2da986a3f2d13": {
     "model_module": "@jupyter-widgets/controls",
     "model_module_version": "1.5.0",
     "model_name": "HTMLModel",
     "state": {
      "_dom_classes": [],
      "_model_module": "@jupyter-widgets/controls",
      "_model_module_version": "1.5.0",
      "_model_name": "HTMLModel",
      "_view_count": null,
      "_view_module": "@jupyter-widgets/controls",
      "_view_module_version": "1.5.0",
      "_view_name": "HTMLView",
      "description": "",
      "description_tooltip": null,
      "layout": "IPY_MODEL_62b6af4e86f84a0d984e3a257e7ccf11",
      "placeholder": "​",
      "style": "IPY_MODEL_bbaa6ed7c45443ea8e40e40b8313592a",
      "value": "Downloading: 100%"
     }
    },
    "f008a2e060184a21b4690e0759e681cf": {
     "model_module": "@jupyter-widgets/controls",
     "model_module_version": "1.5.0",
     "model_name": "DescriptionStyleModel",
     "state": {
      "_model_module": "@jupyter-widgets/controls",
      "_model_module_version": "1.5.0",
      "_model_name": "DescriptionStyleModel",
      "_view_count": null,
      "_view_module": "@jupyter-widgets/base",
      "_view_module_version": "1.2.0",
      "_view_name": "StyleView",
      "description_width": ""
     }
    },
    "fe2fdf2028bd4f7f974f8010972844de": {
     "model_module": "@jupyter-widgets/controls",
     "model_module_version": "1.5.0",
     "model_name": "ProgressStyleModel",
     "state": {
      "_model_module": "@jupyter-widgets/controls",
      "_model_module_version": "1.5.0",
      "_model_name": "ProgressStyleModel",
      "_view_count": null,
      "_view_module": "@jupyter-widgets/base",
      "_view_module_version": "1.2.0",
      "_view_name": "StyleView",
      "bar_color": null,
      "description_width": ""
     }
    }
   }
  }
 },
 "nbformat": 4,
 "nbformat_minor": 1
}
